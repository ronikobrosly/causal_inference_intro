{
 "cells": [
  {
   "cell_type": "markdown",
   "id": "4fc308d6-3f49-41e9-b66a-a1b6da78d2fc",
   "metadata": {},
   "source": [
    "# Notebook 2 - Propensity Score Matching (teacher notebook)"
   ]
  },
  {
   "cell_type": "markdown",
   "id": "d3ce39a2-5c9c-4f00-8abc-a1abf90768bb",
   "metadata": {},
   "source": [
    "\n",
    "In this notebook we'll look at a classic economics dataset (LaLonde R, 1986) and try to calculate propensity scores and estimate a basic causal treatment effect."
   ]
  },
  {
   "cell_type": "code",
   "execution_count": 1,
   "id": "884d54e5-20d3-401a-ad3c-ca9a7f135e27",
   "metadata": {},
   "outputs": [],
   "source": [
    "import math\n",
    "\n",
    "import matplotlib.pyplot as plt\n",
    "import numpy as np\n",
    "import pandas as pd\n",
    "from sklearn.linear_model import LogisticRegression\n",
    "from sklearn.neighbors import NearestNeighbors\n",
    "from sklearn.preprocessing import StandardScaler\n",
    "import seaborn as sns\n",
    "from statsmodels.distributions.empirical_distribution import ECDF\n",
    "\n",
    "%matplotlib inline\n",
    "plt.rcParams['figure.figsize'] = [10, 5]"
   ]
  },
  {
   "cell_type": "code",
   "execution_count": 2,
   "id": "a512ca09-969f-408a-9171-b34816477a45",
   "metadata": {
    "tags": []
   },
   "outputs": [],
   "source": [
    "# Windows users: replace the following line with `df = pd.read_csv(r\"..\\..\\data\\lalonde.csv\")`\n",
    "df = pd.read_csv(\"../../data/lalonde.csv\")"
   ]
  },
  {
   "cell_type": "markdown",
   "id": "1f6d0d41-a96e-4203-9ce1-06a4506a9002",
   "metadata": {},
   "source": [
    "The LaLonde dataset should contain the following 12 columns. This is data from a set of individuals received a job training course (that is the treatment). It was hypothesized that this treatment would improve their 1978 real earnings. \n",
    "\n",
    "age<br>\n",
    "   $\\;\\;\\;\\;\\;\\;$age in years.<br>\n",
    "educ<br>\n",
    "    $\\;\\;\\;\\;\\;\\;$years of schooling.<br>\n",
    "black<br>\n",
    "    $\\;\\;\\;\\;\\;\\;$indicator variable for blacks.<br>\n",
    "hisp<br>\n",
    "    $\\;\\;\\;\\;\\;\\;$indicator variable for Hispanics.<br>\n",
    "married<br>\n",
    "    $\\;\\;\\;\\;\\;\\;$indicator variable for martial status.<br>\n",
    "nodegr<br>\n",
    "    $\\;\\;\\;\\;\\;\\;$indicator variable for high school diploma.<br>\n",
    "re74<br>\n",
    "    $\\;\\;\\;\\;\\;\\;$real earnings in 1974.<br>\n",
    "re75<br>\n",
    "    $\\;\\;\\;\\;\\;\\;$real earnings in 1975.<br>\n",
    "re78<br>\n",
    "    $\\;\\;\\;\\;\\;\\;$real earnings in 1978.<br>\n",
    "u74<br>\n",
    "    $\\;\\;\\;\\;\\;\\;$indicator variable for earnings in 1974 being zero.<br>\n",
    "u75<br>\n",
    "    $\\;\\;\\;\\;\\;\\;$indicator variable for earnings in 1975 being zero.<br>\n",
    "treat<br>\n",
    "    $\\;\\;\\;\\;\\;\\;$an indicator variable for treatment status.<br>"
   ]
  },
  {
   "cell_type": "markdown",
   "id": "6ea6d37e-34c1-402b-a717-b69aa3d40e6e",
   "metadata": {},
   "source": [
    "Let's take a look at a few observations"
   ]
  },
  {
   "cell_type": "code",
   "execution_count": 3,
   "id": "98712aeb-1e4f-4eb1-8f1a-b332104a02aa",
   "metadata": {
    "tags": []
   },
   "outputs": [
    {
     "data": {
      "text/html": [
       "<div>\n",
       "<style scoped>\n",
       "    .dataframe tbody tr th:only-of-type {\n",
       "        vertical-align: middle;\n",
       "    }\n",
       "\n",
       "    .dataframe tbody tr th {\n",
       "        vertical-align: top;\n",
       "    }\n",
       "\n",
       "    .dataframe thead th {\n",
       "        text-align: right;\n",
       "    }\n",
       "</style>\n",
       "<table border=\"1\" class=\"dataframe\">\n",
       "  <thead>\n",
       "    <tr style=\"text-align: right;\">\n",
       "      <th></th>\n",
       "      <th>age</th>\n",
       "      <th>educ</th>\n",
       "      <th>black</th>\n",
       "      <th>hisp</th>\n",
       "      <th>married</th>\n",
       "      <th>nodegr</th>\n",
       "      <th>re74</th>\n",
       "      <th>re75</th>\n",
       "      <th>re78</th>\n",
       "      <th>u74</th>\n",
       "      <th>u75</th>\n",
       "      <th>treat</th>\n",
       "    </tr>\n",
       "  </thead>\n",
       "  <tbody>\n",
       "    <tr>\n",
       "      <th>0</th>\n",
       "      <td>37</td>\n",
       "      <td>11</td>\n",
       "      <td>1</td>\n",
       "      <td>0</td>\n",
       "      <td>1</td>\n",
       "      <td>1</td>\n",
       "      <td>0.0</td>\n",
       "      <td>0.0</td>\n",
       "      <td>9930.05</td>\n",
       "      <td>1</td>\n",
       "      <td>1</td>\n",
       "      <td>1</td>\n",
       "    </tr>\n",
       "    <tr>\n",
       "      <th>1</th>\n",
       "      <td>22</td>\n",
       "      <td>9</td>\n",
       "      <td>0</td>\n",
       "      <td>1</td>\n",
       "      <td>0</td>\n",
       "      <td>1</td>\n",
       "      <td>0.0</td>\n",
       "      <td>0.0</td>\n",
       "      <td>3595.89</td>\n",
       "      <td>1</td>\n",
       "      <td>1</td>\n",
       "      <td>1</td>\n",
       "    </tr>\n",
       "    <tr>\n",
       "      <th>2</th>\n",
       "      <td>30</td>\n",
       "      <td>12</td>\n",
       "      <td>1</td>\n",
       "      <td>0</td>\n",
       "      <td>0</td>\n",
       "      <td>0</td>\n",
       "      <td>0.0</td>\n",
       "      <td>0.0</td>\n",
       "      <td>24909.50</td>\n",
       "      <td>1</td>\n",
       "      <td>1</td>\n",
       "      <td>1</td>\n",
       "    </tr>\n",
       "    <tr>\n",
       "      <th>3</th>\n",
       "      <td>27</td>\n",
       "      <td>11</td>\n",
       "      <td>1</td>\n",
       "      <td>0</td>\n",
       "      <td>0</td>\n",
       "      <td>1</td>\n",
       "      <td>0.0</td>\n",
       "      <td>0.0</td>\n",
       "      <td>7506.15</td>\n",
       "      <td>1</td>\n",
       "      <td>1</td>\n",
       "      <td>1</td>\n",
       "    </tr>\n",
       "    <tr>\n",
       "      <th>4</th>\n",
       "      <td>33</td>\n",
       "      <td>8</td>\n",
       "      <td>1</td>\n",
       "      <td>0</td>\n",
       "      <td>0</td>\n",
       "      <td>1</td>\n",
       "      <td>0.0</td>\n",
       "      <td>0.0</td>\n",
       "      <td>289.79</td>\n",
       "      <td>1</td>\n",
       "      <td>1</td>\n",
       "      <td>1</td>\n",
       "    </tr>\n",
       "  </tbody>\n",
       "</table>\n",
       "</div>"
      ],
      "text/plain": [
       "   age  educ  black  hisp  married  nodegr  re74  re75      re78  u74  u75  \\\n",
       "0   37    11      1     0        1       1   0.0   0.0   9930.05    1    1   \n",
       "1   22     9      0     1        0       1   0.0   0.0   3595.89    1    1   \n",
       "2   30    12      1     0        0       0   0.0   0.0  24909.50    1    1   \n",
       "3   27    11      1     0        0       1   0.0   0.0   7506.15    1    1   \n",
       "4   33     8      1     0        0       1   0.0   0.0    289.79    1    1   \n",
       "\n",
       "   treat  \n",
       "0      1  \n",
       "1      1  \n",
       "2      1  \n",
       "3      1  \n",
       "4      1  "
      ]
     },
     "execution_count": 3,
     "metadata": {},
     "output_type": "execute_result"
    }
   ],
   "source": [
    "df.head()"
   ]
  },
  {
   "cell_type": "markdown",
   "id": "dffb6298-e405-4b27-bf0c-8db83b0559fb",
   "metadata": {},
   "source": [
    "Adding an ID column and restricting the dataset to a few relevant columns"
   ]
  },
  {
   "cell_type": "code",
   "execution_count": 4,
   "id": "69a1e0d8-dfa6-4d61-a638-ff571fda1035",
   "metadata": {},
   "outputs": [],
   "source": [
    "df['ID'] = range(0,445)"
   ]
  },
  {
   "cell_type": "code",
   "execution_count": 5,
   "id": "d78bb756-84c0-4be0-8c9f-6c010a2d6dd0",
   "metadata": {},
   "outputs": [],
   "source": [
    "df = df[['ID', 'age', 'educ', 'black', 'hisp', 'married', 're78', 'treat']]"
   ]
  },
  {
   "cell_type": "markdown",
   "id": "8f1063f0-2e0e-4240-9ec2-2e6c3eacfd33",
   "metadata": {},
   "source": [
    "## First, let's calculate the \"raw\" treatment effect without any adjustment for confounding "
   ]
  },
  {
   "cell_type": "markdown",
   "id": "2f89855e-59f5-46ad-8232-0c672970b6af",
   "metadata": {},
   "source": [
    "This is us taking a very naive (and likely biased) look at the results. There may be a negative treatment effect, or none, or positive, because there is likely confounding going on. That's okay for now, we just want to see where we're starting from."
   ]
  },
  {
   "cell_type": "markdown",
   "id": "77a4a224-aeff-4d94-9e49-c141738d8d97",
   "metadata": {},
   "source": [
    "<div class=\"alert alert-success\">\n",
    "    <h3>EXERCISE: What are the average earnings from the treated group?</h3>\n",
    "</div>"
   ]
  },
  {
   "cell_type": "code",
   "execution_count": 6,
   "id": "907745d8-e5fa-4f9c-a844-54f1b9e5f012",
   "metadata": {},
   "outputs": [],
   "source": [
    "# Get the average earnings from the treated group\n",
    "raw_outcome_treated = df['re78'][df['treat'] == 1].mean()"
   ]
  },
  {
   "cell_type": "markdown",
   "id": "abc66a9f-3229-4659-b464-dc5739c4477d",
   "metadata": {},
   "source": [
    "<div class=\"alert alert-success\">\n",
    "    <h3>EXERCISE: What are the average earnings from the untreated group?</h3>\n",
    "</div>"
   ]
  },
  {
   "cell_type": "code",
   "execution_count": 7,
   "id": "4094b329-340e-4009-9615-24bf6ab57ace",
   "metadata": {},
   "outputs": [],
   "source": [
    "# Get the average earnings from the untreated group\n",
    "raw_outcome_untreated = df['re78'][df['treat'] == 0].mean()"
   ]
  },
  {
   "cell_type": "markdown",
   "id": "45da6f0a-a6d0-4483-a292-b422ca68ca35",
   "metadata": {},
   "source": [
    "<div class=\"alert alert-success\">\n",
    "    <h3>EXERCISE: What is the difference between these two averages? This is the raw treatment effect.</h3>\n",
    "</div>"
   ]
  },
  {
   "cell_type": "code",
   "execution_count": 8,
   "id": "f1193d10-6824-4110-b2bf-900761ef80d5",
   "metadata": {},
   "outputs": [
    {
     "name": "stdout",
     "output_type": "stream",
     "text": [
      "1794.34\n"
     ]
    }
   ],
   "source": [
    "# The raw treatment effect is...\n",
    "print(round(raw_outcome_treated - raw_outcome_untreated, 2))"
   ]
  },
  {
   "cell_type": "markdown",
   "id": "d2e63bf1-c4b4-4731-9cfc-46d9f22a369d",
   "metadata": {},
   "source": [
    "## Naively, it appears that the job training course (AKA the treatment) had an effect of adding an additional $1794 dollars to one's annual earning. Let's get a sense of the variability around this estimate, by calculating 95% bootstrapped confidence intervals."
   ]
  },
  {
   "cell_type": "code",
   "execution_count": 9,
   "id": "098c50d2-3d3a-47d3-aee2-fcfe586a9423",
   "metadata": {},
   "outputs": [],
   "source": [
    "# First, let's create a function to more elegantly pull out the raw treatment effect from a LaLonde dataset\n",
    "\n",
    "def get_raw_treatment(dataframe):\n",
    "    \"\"\"\n",
    "    Extracts a raw treatment effect from a LaLonde dataset. Assumes the treatment column is named `treat` and the outcome column is named `re78`\n",
    "    \n",
    "    Args:\n",
    "        dataframe: the pandas dataframe of interest\n",
    "        \n",
    "    Returns: Float corresponding to raw treatment effect\n",
    "    \"\"\"\n",
    "    return dataframe.groupby('treat')['re78'].mean().sort_index().diff().iloc[1]"
   ]
  },
  {
   "cell_type": "code",
   "execution_count": 10,
   "id": "bf980fa0-7b50-4424-be8b-6f1d88bd77a8",
   "metadata": {},
   "outputs": [],
   "source": [
    "# Let's obtain 1000 bootstrap replicates of our original dataset\n",
    "\n",
    "boot_results = []\n",
    "\n",
    "for rep in range(0,10000):\n",
    "    boot_results.append(\n",
    "        get_raw_treatment(\n",
    "            df.sample(frac = 1, replace = True)\n",
    "        )\n",
    "    )"
   ]
  },
  {
   "cell_type": "code",
   "execution_count": 11,
   "id": "110e5208-f1bf-4130-b344-d1ec28c8443d",
   "metadata": {
    "tags": []
   },
   "outputs": [
    {
     "name": "stdout",
     "output_type": "stream",
     "text": [
      "(541.88, 3139.3)\n"
     ]
    }
   ],
   "source": [
    "# Now find the 2.5 and 97.5 percentile of this list's values and you have the empirical, bootstrap confidence intervals\n",
    "np_boot_results = np.array(boot_results)\n",
    "print(f\"({round(np.percentile(np_boot_results, 2.5), 2)}, {round(np.percentile(np_boot_results, 97.5), 2)})\")"
   ]
  },
  {
   "cell_type": "markdown",
   "id": "2fd6b1c2-681b-472f-9e03-0104b3b9aa5e",
   "metadata": {},
   "source": [
    "## That's a wide confidence interval. It makes sense though, the dataset we're working with is tiny (about 450 observations)."
   ]
  },
  {
   "cell_type": "markdown",
   "id": "593f084e-1041-4c96-a90f-7a199ec6258d",
   "metadata": {
    "tags": []
   },
   "source": [
    "## Now, let's try out hand at causal inference and start by creating our propensity scores"
   ]
  },
  {
   "cell_type": "markdown",
   "id": "c8d4c3af-455d-4161-9e6d-05b36043191b",
   "metadata": {},
   "source": [
    "Remember, these scores take on values [0, 1.0], and represent the probability of an individual or study unit receiving the treatment. You can generate these by creating a model that takes in all covariates and tries to predict treatment status.\n",
    "\n",
    "Let's first do some light exploratory work..."
   ]
  },
  {
   "cell_type": "code",
   "execution_count": 12,
   "id": "fcd9c323-b76c-4d11-9a14-fe1a8eecbf68",
   "metadata": {},
   "outputs": [
    {
     "data": {
      "text/plain": [
       "<AxesSubplot:ylabel='Frequency'>"
      ]
     },
     "execution_count": 12,
     "metadata": {},
     "output_type": "execute_result"
    },
    {
     "data": {
      "image/png": "[encoded data removed]",
      "text/plain": [
       "<Figure size 720x360 with 1 Axes>"
      ]
     },
     "metadata": {
      "needs_background": "light"
     },
     "output_type": "display_data"
    }
   ],
   "source": [
    "df['age'].plot.hist()"
   ]
  },
  {
   "cell_type": "code",
   "execution_count": 13,
   "id": "89a23da7-9a73-45dd-8034-c1bc9c6a4c9d",
   "metadata": {},
   "outputs": [
    {
     "data": {
      "text/plain": [
       "<AxesSubplot:ylabel='Frequency'>"
      ]
     },
     "execution_count": 13,
     "metadata": {},
     "output_type": "execute_result"
    },
    {
     "data": {
      "image/png": "[encoded data removed]",
      "text/plain": [
       "<Figure size 720x360 with 1 Axes>"
      ]
     },
     "metadata": {
      "needs_background": "light"
     },
     "output_type": "display_data"
    }
   ],
   "source": [
    "df['educ'].plot.hist()"
   ]
  },
  {
   "cell_type": "code",
   "execution_count": 14,
   "id": "59f7bab5-ad09-4acb-b9f9-102e8dd248e1",
   "metadata": {},
   "outputs": [
    {
     "data": {
      "text/html": [
       "<div>\n",
       "<style scoped>\n",
       "    .dataframe tbody tr th:only-of-type {\n",
       "        vertical-align: middle;\n",
       "    }\n",
       "\n",
       "    .dataframe tbody tr th {\n",
       "        vertical-align: top;\n",
       "    }\n",
       "\n",
       "    .dataframe thead th {\n",
       "        text-align: right;\n",
       "    }\n",
       "</style>\n",
       "<table border=\"1\" class=\"dataframe\">\n",
       "  <thead>\n",
       "    <tr style=\"text-align: right;\">\n",
       "      <th></th>\n",
       "      <th>ID</th>\n",
       "      <th>age</th>\n",
       "      <th>educ</th>\n",
       "      <th>black</th>\n",
       "      <th>hisp</th>\n",
       "      <th>married</th>\n",
       "      <th>re78</th>\n",
       "      <th>treat</th>\n",
       "    </tr>\n",
       "  </thead>\n",
       "  <tbody>\n",
       "    <tr>\n",
       "      <th>count</th>\n",
       "      <td>445.000000</td>\n",
       "      <td>445.000000</td>\n",
       "      <td>445.000000</td>\n",
       "      <td>445.000000</td>\n",
       "      <td>445.00000</td>\n",
       "      <td>445.000000</td>\n",
       "      <td>445.000000</td>\n",
       "      <td>445.000000</td>\n",
       "    </tr>\n",
       "    <tr>\n",
       "      <th>mean</th>\n",
       "      <td>222.000000</td>\n",
       "      <td>25.370787</td>\n",
       "      <td>10.195506</td>\n",
       "      <td>0.833708</td>\n",
       "      <td>0.08764</td>\n",
       "      <td>0.168539</td>\n",
       "      <td>5300.765138</td>\n",
       "      <td>0.415730</td>\n",
       "    </tr>\n",
       "    <tr>\n",
       "      <th>std</th>\n",
       "      <td>128.604691</td>\n",
       "      <td>7.100282</td>\n",
       "      <td>1.792119</td>\n",
       "      <td>0.372762</td>\n",
       "      <td>0.28309</td>\n",
       "      <td>0.374766</td>\n",
       "      <td>6631.493362</td>\n",
       "      <td>0.493402</td>\n",
       "    </tr>\n",
       "    <tr>\n",
       "      <th>min</th>\n",
       "      <td>0.000000</td>\n",
       "      <td>17.000000</td>\n",
       "      <td>3.000000</td>\n",
       "      <td>0.000000</td>\n",
       "      <td>0.00000</td>\n",
       "      <td>0.000000</td>\n",
       "      <td>0.000000</td>\n",
       "      <td>0.000000</td>\n",
       "    </tr>\n",
       "    <tr>\n",
       "      <th>25%</th>\n",
       "      <td>111.000000</td>\n",
       "      <td>20.000000</td>\n",
       "      <td>9.000000</td>\n",
       "      <td>1.000000</td>\n",
       "      <td>0.00000</td>\n",
       "      <td>0.000000</td>\n",
       "      <td>0.000000</td>\n",
       "      <td>0.000000</td>\n",
       "    </tr>\n",
       "    <tr>\n",
       "      <th>50%</th>\n",
       "      <td>222.000000</td>\n",
       "      <td>24.000000</td>\n",
       "      <td>10.000000</td>\n",
       "      <td>1.000000</td>\n",
       "      <td>0.00000</td>\n",
       "      <td>0.000000</td>\n",
       "      <td>3701.810000</td>\n",
       "      <td>0.000000</td>\n",
       "    </tr>\n",
       "    <tr>\n",
       "      <th>75%</th>\n",
       "      <td>333.000000</td>\n",
       "      <td>28.000000</td>\n",
       "      <td>11.000000</td>\n",
       "      <td>1.000000</td>\n",
       "      <td>0.00000</td>\n",
       "      <td>0.000000</td>\n",
       "      <td>8124.720000</td>\n",
       "      <td>1.000000</td>\n",
       "    </tr>\n",
       "    <tr>\n",
       "      <th>max</th>\n",
       "      <td>444.000000</td>\n",
       "      <td>55.000000</td>\n",
       "      <td>16.000000</td>\n",
       "      <td>1.000000</td>\n",
       "      <td>1.00000</td>\n",
       "      <td>1.000000</td>\n",
       "      <td>60307.900000</td>\n",
       "      <td>1.000000</td>\n",
       "    </tr>\n",
       "  </tbody>\n",
       "</table>\n",
       "</div>"
      ],
      "text/plain": [
       "               ID         age        educ       black       hisp     married  \\\n",
       "count  445.000000  445.000000  445.000000  445.000000  445.00000  445.000000   \n",
       "mean   222.000000   25.370787   10.195506    0.833708    0.08764    0.168539   \n",
       "std    128.604691    7.100282    1.792119    0.372762    0.28309    0.374766   \n",
       "min      0.000000   17.000000    3.000000    0.000000    0.00000    0.000000   \n",
       "25%    111.000000   20.000000    9.000000    1.000000    0.00000    0.000000   \n",
       "50%    222.000000   24.000000   10.000000    1.000000    0.00000    0.000000   \n",
       "75%    333.000000   28.000000   11.000000    1.000000    0.00000    0.000000   \n",
       "max    444.000000   55.000000   16.000000    1.000000    1.00000    1.000000   \n",
       "\n",
       "               re78       treat  \n",
       "count    445.000000  445.000000  \n",
       "mean    5300.765138    0.415730  \n",
       "std     6631.493362    0.493402  \n",
       "min        0.000000    0.000000  \n",
       "25%        0.000000    0.000000  \n",
       "50%     3701.810000    0.000000  \n",
       "75%     8124.720000    1.000000  \n",
       "max    60307.900000    1.000000  "
      ]
     },
     "execution_count": 14,
     "metadata": {},
     "output_type": "execute_result"
    }
   ],
   "source": [
    "df.describe()"
   ]
  },
  {
   "cell_type": "code",
   "execution_count": 15,
   "id": "063d6752-f003-4647-8978-01cce51e43cc",
   "metadata": {},
   "outputs": [],
   "source": [
    "# Let's scale our continuous covariates\n",
    "features = df[['age', 'educ']]\n",
    "\n",
    "# Use scaler of choice; here Standard scaler is used\n",
    "scaler = StandardScaler().fit(features.values)\n",
    "features = scaler.transform(features.values)\n",
    "\n",
    "df[['scaled_age', 'scaled_educ']] = features"
   ]
  },
  {
   "cell_type": "code",
   "execution_count": 16,
   "id": "4457a6bf-58c4-4cd6-ad48-91d2048097f7",
   "metadata": {},
   "outputs": [
    {
     "data": {
      "text/html": [
       "<div>\n",
       "<style scoped>\n",
       "    .dataframe tbody tr th:only-of-type {\n",
       "        vertical-align: middle;\n",
       "    }\n",
       "\n",
       "    .dataframe tbody tr th {\n",
       "        vertical-align: top;\n",
       "    }\n",
       "\n",
       "    .dataframe thead th {\n",
       "        text-align: right;\n",
       "    }\n",
       "</style>\n",
       "<table border=\"1\" class=\"dataframe\">\n",
       "  <thead>\n",
       "    <tr style=\"text-align: right;\">\n",
       "      <th></th>\n",
       "      <th>ID</th>\n",
       "      <th>age</th>\n",
       "      <th>educ</th>\n",
       "      <th>black</th>\n",
       "      <th>hisp</th>\n",
       "      <th>married</th>\n",
       "      <th>re78</th>\n",
       "      <th>treat</th>\n",
       "      <th>scaled_age</th>\n",
       "      <th>scaled_educ</th>\n",
       "    </tr>\n",
       "  </thead>\n",
       "  <tbody>\n",
       "    <tr>\n",
       "      <th>0</th>\n",
       "      <td>0</td>\n",
       "      <td>37</td>\n",
       "      <td>11</td>\n",
       "      <td>1</td>\n",
       "      <td>0</td>\n",
       "      <td>1</td>\n",
       "      <td>9930.05</td>\n",
       "      <td>1</td>\n",
       "      <td>1.639696</td>\n",
       "      <td>0.449412</td>\n",
       "    </tr>\n",
       "    <tr>\n",
       "      <th>1</th>\n",
       "      <td>1</td>\n",
       "      <td>22</td>\n",
       "      <td>9</td>\n",
       "      <td>0</td>\n",
       "      <td>1</td>\n",
       "      <td>0</td>\n",
       "      <td>3595.89</td>\n",
       "      <td>1</td>\n",
       "      <td>-0.475274</td>\n",
       "      <td>-0.667841</td>\n",
       "    </tr>\n",
       "    <tr>\n",
       "      <th>2</th>\n",
       "      <td>2</td>\n",
       "      <td>30</td>\n",
       "      <td>12</td>\n",
       "      <td>1</td>\n",
       "      <td>0</td>\n",
       "      <td>0</td>\n",
       "      <td>24909.50</td>\n",
       "      <td>1</td>\n",
       "      <td>0.652710</td>\n",
       "      <td>1.008039</td>\n",
       "    </tr>\n",
       "    <tr>\n",
       "      <th>3</th>\n",
       "      <td>3</td>\n",
       "      <td>27</td>\n",
       "      <td>11</td>\n",
       "      <td>1</td>\n",
       "      <td>0</td>\n",
       "      <td>0</td>\n",
       "      <td>7506.15</td>\n",
       "      <td>1</td>\n",
       "      <td>0.229716</td>\n",
       "      <td>0.449412</td>\n",
       "    </tr>\n",
       "    <tr>\n",
       "      <th>4</th>\n",
       "      <td>4</td>\n",
       "      <td>33</td>\n",
       "      <td>8</td>\n",
       "      <td>1</td>\n",
       "      <td>0</td>\n",
       "      <td>0</td>\n",
       "      <td>289.79</td>\n",
       "      <td>1</td>\n",
       "      <td>1.075704</td>\n",
       "      <td>-1.226468</td>\n",
       "    </tr>\n",
       "  </tbody>\n",
       "</table>\n",
       "</div>"
      ],
      "text/plain": [
       "   ID  age  educ  black  hisp  married      re78  treat  scaled_age  \\\n",
       "0   0   37    11      1     0        1   9930.05      1    1.639696   \n",
       "1   1   22     9      0     1        0   3595.89      1   -0.475274   \n",
       "2   2   30    12      1     0        0  24909.50      1    0.652710   \n",
       "3   3   27    11      1     0        0   7506.15      1    0.229716   \n",
       "4   4   33     8      1     0        0    289.79      1    1.075704   \n",
       "\n",
       "   scaled_educ  \n",
       "0     0.449412  \n",
       "1    -0.667841  \n",
       "2     1.008039  \n",
       "3     0.449412  \n",
       "4    -1.226468  "
      ]
     },
     "execution_count": 16,
     "metadata": {},
     "output_type": "execute_result"
    }
   ],
   "source": [
    "df.head()"
   ]
  },
  {
   "cell_type": "code",
   "execution_count": 17,
   "id": "516ad76e-bf2f-4941-8d67-a46514e7a360",
   "metadata": {},
   "outputs": [],
   "source": [
    "ps_model = LogisticRegression(penalty = 'none').fit(X = df[['scaled_age', 'scaled_educ', 'black', 'hisp', 'married']], y = df['treat'])"
   ]
  },
  {
   "cell_type": "code",
   "execution_count": 18,
   "id": "612d54ff-3062-49f1-a35f-12ba8a8ac192",
   "metadata": {},
   "outputs": [],
   "source": [
    "# Typically it would be good to assess model performance the usual way (creating a training and test set, calculating accuracy, recall, precision, etc.)\n",
    "# But for the purposes of this tutorial, let's skip that and assume it's a decent model\n",
    "\n",
    "df['pro_score'] = ps_model.predict_proba(X = df[['scaled_age', 'scaled_educ', 'black', 'hisp', 'married']])[:,1]"
   ]
  },
  {
   "cell_type": "markdown",
   "id": "1cc53f88-7697-406f-9a0c-82b3b37eb89d",
   "metadata": {},
   "source": [
    "## That wasn't so bad! Now we have our propensity scores as a column in the dataframe"
   ]
  },
  {
   "cell_type": "markdown",
   "id": "b419f4dc-c266-4b4d-851a-02c6729c3c6d",
   "metadata": {},
   "source": [
    "<div class=\"alert alert-success\">\n",
    "    <h3>EXERCISE: Explore the propensity scores with a univariate analysis. How are they distributed? What are the min and max values?</h3>\n",
    "</div>"
   ]
  },
  {
   "cell_type": "code",
   "execution_count": 19,
   "id": "3c3d8afb-2a52-47d4-a247-742f388e2d39",
   "metadata": {},
   "outputs": [
    {
     "data": {
      "text/html": [
       "<div>\n",
       "<style scoped>\n",
       "    .dataframe tbody tr th:only-of-type {\n",
       "        vertical-align: middle;\n",
       "    }\n",
       "\n",
       "    .dataframe tbody tr th {\n",
       "        vertical-align: top;\n",
       "    }\n",
       "\n",
       "    .dataframe thead th {\n",
       "        text-align: right;\n",
       "    }\n",
       "</style>\n",
       "<table border=\"1\" class=\"dataframe\">\n",
       "  <thead>\n",
       "    <tr style=\"text-align: right;\">\n",
       "      <th></th>\n",
       "      <th>ID</th>\n",
       "      <th>age</th>\n",
       "      <th>educ</th>\n",
       "      <th>black</th>\n",
       "      <th>hisp</th>\n",
       "      <th>married</th>\n",
       "      <th>re78</th>\n",
       "      <th>treat</th>\n",
       "      <th>scaled_age</th>\n",
       "      <th>scaled_educ</th>\n",
       "      <th>pro_score</th>\n",
       "    </tr>\n",
       "  </thead>\n",
       "  <tbody>\n",
       "    <tr>\n",
       "      <th>0</th>\n",
       "      <td>0</td>\n",
       "      <td>37</td>\n",
       "      <td>11</td>\n",
       "      <td>1</td>\n",
       "      <td>0</td>\n",
       "      <td>1</td>\n",
       "      <td>9930.05</td>\n",
       "      <td>1</td>\n",
       "      <td>1.639696</td>\n",
       "      <td>0.449412</td>\n",
       "      <td>0.504408</td>\n",
       "    </tr>\n",
       "    <tr>\n",
       "      <th>1</th>\n",
       "      <td>1</td>\n",
       "      <td>22</td>\n",
       "      <td>9</td>\n",
       "      <td>0</td>\n",
       "      <td>1</td>\n",
       "      <td>0</td>\n",
       "      <td>3595.89</td>\n",
       "      <td>1</td>\n",
       "      <td>-0.475274</td>\n",
       "      <td>-0.667841</td>\n",
       "      <td>0.266263</td>\n",
       "    </tr>\n",
       "    <tr>\n",
       "      <th>2</th>\n",
       "      <td>2</td>\n",
       "      <td>30</td>\n",
       "      <td>12</td>\n",
       "      <td>1</td>\n",
       "      <td>0</td>\n",
       "      <td>0</td>\n",
       "      <td>24909.50</td>\n",
       "      <td>1</td>\n",
       "      <td>0.652710</td>\n",
       "      <td>1.008039</td>\n",
       "      <td>0.450044</td>\n",
       "    </tr>\n",
       "    <tr>\n",
       "      <th>3</th>\n",
       "      <td>3</td>\n",
       "      <td>27</td>\n",
       "      <td>11</td>\n",
       "      <td>1</td>\n",
       "      <td>0</td>\n",
       "      <td>0</td>\n",
       "      <td>7506.15</td>\n",
       "      <td>1</td>\n",
       "      <td>0.229716</td>\n",
       "      <td>0.449412</td>\n",
       "      <td>0.426711</td>\n",
       "    </tr>\n",
       "    <tr>\n",
       "      <th>4</th>\n",
       "      <td>4</td>\n",
       "      <td>33</td>\n",
       "      <td>8</td>\n",
       "      <td>1</td>\n",
       "      <td>0</td>\n",
       "      <td>0</td>\n",
       "      <td>289.79</td>\n",
       "      <td>1</td>\n",
       "      <td>1.075704</td>\n",
       "      <td>-1.226468</td>\n",
       "      <td>0.398769</td>\n",
       "    </tr>\n",
       "  </tbody>\n",
       "</table>\n",
       "</div>"
      ],
      "text/plain": [
       "   ID  age  educ  black  hisp  married      re78  treat  scaled_age  \\\n",
       "0   0   37    11      1     0        1   9930.05      1    1.639696   \n",
       "1   1   22     9      0     1        0   3595.89      1   -0.475274   \n",
       "2   2   30    12      1     0        0  24909.50      1    0.652710   \n",
       "3   3   27    11      1     0        0   7506.15      1    0.229716   \n",
       "4   4   33     8      1     0        0    289.79      1    1.075704   \n",
       "\n",
       "   scaled_educ  pro_score  \n",
       "0     0.449412   0.504408  \n",
       "1    -0.667841   0.266263  \n",
       "2     1.008039   0.450044  \n",
       "3     0.449412   0.426711  \n",
       "4    -1.226468   0.398769  "
      ]
     },
     "execution_count": 19,
     "metadata": {},
     "output_type": "execute_result"
    }
   ],
   "source": [
    "df.head()"
   ]
  },
  {
   "cell_type": "code",
   "execution_count": 20,
   "id": "5036604d-fd79-4310-a6b2-2953458e1d41",
   "metadata": {},
   "outputs": [],
   "source": [
    "edcf = ECDF(df['pro_score'])"
   ]
  },
  {
   "cell_type": "code",
   "execution_count": 21,
   "id": "5162cd40-9a89-4da1-8644-556c52b4b4b4",
   "metadata": {
    "tags": []
   },
   "outputs": [
    {
     "data": {
      "image/png": "[encoded data removed]",
      "text/plain": [
       "<Figure size 720x360 with 2 Axes>"
      ]
     },
     "metadata": {
      "needs_background": "light"
     },
     "output_type": "display_data"
    }
   ],
   "source": [
    "plt.subplot(1, 2, 1)\n",
    "plt.plot(edcf.x, edcf.y)\n",
    "plt.subplot(1, 2, 2)\n",
    "_ = plt.hist(df['pro_score'])"
   ]
  },
  {
   "cell_type": "code",
   "execution_count": 22,
   "id": "a38da9eb-9a8d-457d-b845-7e3144d4d305",
   "metadata": {},
   "outputs": [
    {
     "data": {
      "text/plain": [
       "<AxesSubplot:xlabel='pro_score', ylabel='Density'>"
      ]
     },
     "execution_count": 22,
     "metadata": {},
     "output_type": "execute_result"
    },
    {
     "data": {
      "image/png": "[encoded data removed]",
      "text/plain": [
       "<Figure size 720x360 with 1 Axes>"
      ]
     },
     "metadata": {
      "needs_background": "light"
     },
     "output_type": "display_data"
    }
   ],
   "source": [
    "# Density plot of propensity scores by treatment status\n",
    "\n",
    "sns.kdeplot(x = df['pro_score'], hue = df['treat'])"
   ]
  },
  {
   "cell_type": "markdown",
   "id": "3ea347e3-963e-4243-8ba1-2982d5536edf",
   "metadata": {},
   "source": [
    "## Now let's match up our treated and \"control\" groups based on propensity scores\n",
    "\n",
    "We're going to use \"caliper\" matching. That is, you specify a small range in which it's okay to say two propensity scores are similar enough. One standard approach is to use a fraction of the standard deviation of the propensity scores. In this example, let's use a quarter of the standard deviation."
   ]
  },
  {
   "cell_type": "code",
   "execution_count": 23,
   "id": "9e26df3b-e740-432d-a350-99987b6bb067",
   "metadata": {},
   "outputs": [
    {
     "name": "stdout",
     "output_type": "stream",
     "text": [
      "Caliper radius is: 0.0157\n"
     ]
    }
   ],
   "source": [
    "caliper = np.std(df['pro_score']) / 4\n",
    "print(f'Caliper radius is: {round(caliper, 4)}')"
   ]
  },
  {
   "cell_type": "code",
   "execution_count": 24,
   "id": "fef739da-c8e5-4891-9182-d9ef8a7665cc",
   "metadata": {},
   "outputs": [
    {
     "data": {
      "text/html": [
       "<style>#sk-container-id-1 {color: black;background-color: white;}#sk-container-id-1 pre{padding: 0;}#sk-container-id-1 div.sk-toggleable {background-color: white;}#sk-container-id-1 label.sk-toggleable__label {cursor: pointer;display: block;width: 100%;margin-bottom: 0;padding: 0.3em;box-sizing: border-box;text-align: center;}#sk-container-id-1 label.sk-toggleable__label-arrow:before {content: \"▸\";float: left;margin-right: 0.25em;color: #696969;}#sk-container-id-1 label.sk-toggleable__label-arrow:hover:before {color: black;}#sk-container-id-1 div.sk-estimator:hover label.sk-toggleable__label-arrow:before {color: black;}#sk-container-id-1 div.sk-toggleable__content {max-height: 0;max-width: 0;overflow: hidden;text-align: left;background-color: #f0f8ff;}#sk-container-id-1 div.sk-toggleable__content pre {margin: 0.2em;color: black;border-radius: 0.25em;background-color: #f0f8ff;}#sk-container-id-1 input.sk-toggleable__control:checked~div.sk-toggleable__content {max-height: 200px;max-width: 100%;overflow: auto;}#sk-container-id-1 input.sk-toggleable__control:checked~label.sk-toggleable__label-arrow:before {content: \"▾\";}#sk-container-id-1 div.sk-estimator input.sk-toggleable__control:checked~label.sk-toggleable__label {background-color: #d4ebff;}#sk-container-id-1 div.sk-label input.sk-toggleable__control:checked~label.sk-toggleable__label {background-color: #d4ebff;}#sk-container-id-1 input.sk-hidden--visually {border: 0;clip: rect(1px 1px 1px 1px);clip: rect(1px, 1px, 1px, 1px);height: 1px;margin: -1px;overflow: hidden;padding: 0;position: absolute;width: 1px;}#sk-container-id-1 div.sk-estimator {font-family: monospace;background-color: #f0f8ff;border: 1px dotted black;border-radius: 0.25em;box-sizing: border-box;margin-bottom: 0.5em;}#sk-container-id-1 div.sk-estimator:hover {background-color: #d4ebff;}#sk-container-id-1 div.sk-parallel-item::after {content: \"\";width: 100%;border-bottom: 1px solid gray;flex-grow: 1;}#sk-container-id-1 div.sk-label:hover label.sk-toggleable__label {background-color: #d4ebff;}#sk-container-id-1 div.sk-serial::before {content: \"\";position: absolute;border-left: 1px solid gray;box-sizing: border-box;top: 0;bottom: 0;left: 50%;z-index: 0;}#sk-container-id-1 div.sk-serial {display: flex;flex-direction: column;align-items: center;background-color: white;padding-right: 0.2em;padding-left: 0.2em;position: relative;}#sk-container-id-1 div.sk-item {position: relative;z-index: 1;}#sk-container-id-1 div.sk-parallel {display: flex;align-items: stretch;justify-content: center;background-color: white;position: relative;}#sk-container-id-1 div.sk-item::before, #sk-container-id-1 div.sk-parallel-item::before {content: \"\";position: absolute;border-left: 1px solid gray;box-sizing: border-box;top: 0;bottom: 0;left: 50%;z-index: -1;}#sk-container-id-1 div.sk-parallel-item {display: flex;flex-direction: column;z-index: 1;position: relative;background-color: white;}#sk-container-id-1 div.sk-parallel-item:first-child::after {align-self: flex-end;width: 50%;}#sk-container-id-1 div.sk-parallel-item:last-child::after {align-self: flex-start;width: 50%;}#sk-container-id-1 div.sk-parallel-item:only-child::after {width: 0;}#sk-container-id-1 div.sk-dashed-wrapped {border: 1px dashed gray;margin: 0 0.4em 0.5em 0.4em;box-sizing: border-box;padding-bottom: 0.4em;background-color: white;}#sk-container-id-1 div.sk-label label {font-family: monospace;font-weight: bold;display: inline-block;line-height: 1.2em;}#sk-container-id-1 div.sk-label-container {text-align: center;}#sk-container-id-1 div.sk-container {/* jupyter's `normalize.less` sets `[hidden] { display: none; }` but bootstrap.min.css set `[hidden] { display: none !important; }` so we also need the `!important` here to be able to override the default hidden behavior on the sphinx rendered scikit-learn.org. See: https://github.com/scikit-learn/scikit-learn/issues/21755 */display: inline-block !important;position: relative;}#sk-container-id-1 div.sk-text-repr-fallback {display: none;}</style><div id=\"sk-container-id-1\" class=\"sk-top-container\"><div class=\"sk-text-repr-fallback\"><pre>NearestNeighbors(n_neighbors=10, radius=0.01569750373048554)</pre><b>In a Jupyter environment, please rerun this cell to show the HTML representation or trust the notebook. <br />On GitHub, the HTML representation is unable to render, please try loading this page with nbviewer.org.</b></div><div class=\"sk-container\" hidden><div class=\"sk-item\"><div class=\"sk-estimator sk-toggleable\"><input class=\"sk-toggleable__control sk-hidden--visually\" id=\"sk-estimator-id-1\" type=\"checkbox\" checked><label for=\"sk-estimator-id-1\" class=\"sk-toggleable__label sk-toggleable__label-arrow\">NearestNeighbors</label><div class=\"sk-toggleable__content\"><pre>NearestNeighbors(n_neighbors=10, radius=0.01569750373048554)</pre></div></div></div></div></div>"
      ],
      "text/plain": [
       "NearestNeighbors(n_neighbors=10, radius=0.01569750373048554)"
      ]
     },
     "execution_count": 24,
     "metadata": {},
     "output_type": "execute_result"
    }
   ],
   "source": [
    "# We'll use sklearn's NearestNeighbors algorithm to clustering in 1-dimension (with the propensity scores).\n",
    "\n",
    "knn = NearestNeighbors(n_neighbors=10, radius=caliper)\n",
    "knn.fit(df['pro_score'].to_numpy().reshape(-1,1))"
   ]
  },
  {
   "cell_type": "code",
   "execution_count": 25,
   "id": "c293f50f-72c2-41b2-a2d7-4ef15779d4b0",
   "metadata": {},
   "outputs": [],
   "source": [
    "# Common support distances and indexes\n",
    "distances , indexes = knn.kneighbors(\n",
    "   df['pro_score'].to_numpy().reshape(-1,1),\n",
    "    n_neighbors=10\n",
    ")"
   ]
  },
  {
   "cell_type": "code",
   "execution_count": 26,
   "id": "d4253c53-204b-4318-a635-d13a795899e0",
   "metadata": {},
   "outputs": [],
   "source": [
    "# Now let's do the linking of treated and untreated individuals\n",
    "\n",
    "def perfom_matching(row, indexes, dataframe):\n",
    "    current_index = int(row['index'])\n",
    "    prop_score_logit = row['pro_score']\n",
    "    for idx in indexes[current_index,:]:\n",
    "        if (current_index != idx) and (row['treat'] == 1) and (dataframe.loc[idx]['treat'] == 0):\n",
    "            return int(idx)\n",
    "         \n",
    "df['matched_element'] = df.reset_index().apply(perfom_matching, axis = 1, args = (indexes, df))"
   ]
  },
  {
   "cell_type": "code",
   "execution_count": 27,
   "id": "db0cf917-206d-4e98-943f-fe4a9ad375f1",
   "metadata": {},
   "outputs": [],
   "source": [
    "# Drop any missing values in this column\n",
    "df2 = df.dropna(subset = [\"matched_element\"])"
   ]
  },
  {
   "cell_type": "code",
   "execution_count": 28,
   "id": "b874798f-52cc-4fe2-80de-5459fb6c799a",
   "metadata": {},
   "outputs": [
    {
     "data": {
      "text/html": [
       "<div>\n",
       "<style scoped>\n",
       "    .dataframe tbody tr th:only-of-type {\n",
       "        vertical-align: middle;\n",
       "    }\n",
       "\n",
       "    .dataframe tbody tr th {\n",
       "        vertical-align: top;\n",
       "    }\n",
       "\n",
       "    .dataframe thead th {\n",
       "        text-align: right;\n",
       "    }\n",
       "</style>\n",
       "<table border=\"1\" class=\"dataframe\">\n",
       "  <thead>\n",
       "    <tr style=\"text-align: right;\">\n",
       "      <th></th>\n",
       "      <th>ID</th>\n",
       "      <th>age</th>\n",
       "      <th>educ</th>\n",
       "      <th>black</th>\n",
       "      <th>hisp</th>\n",
       "      <th>married</th>\n",
       "      <th>re78</th>\n",
       "      <th>treat</th>\n",
       "      <th>scaled_age</th>\n",
       "      <th>scaled_educ</th>\n",
       "      <th>pro_score</th>\n",
       "      <th>matched_element</th>\n",
       "    </tr>\n",
       "  </thead>\n",
       "  <tbody>\n",
       "    <tr>\n",
       "      <th>0</th>\n",
       "      <td>0</td>\n",
       "      <td>37</td>\n",
       "      <td>11</td>\n",
       "      <td>1</td>\n",
       "      <td>0</td>\n",
       "      <td>1</td>\n",
       "      <td>9930.05</td>\n",
       "      <td>1</td>\n",
       "      <td>1.639696</td>\n",
       "      <td>0.449412</td>\n",
       "      <td>0.504408</td>\n",
       "      <td>305.0</td>\n",
       "    </tr>\n",
       "    <tr>\n",
       "      <th>1</th>\n",
       "      <td>1</td>\n",
       "      <td>22</td>\n",
       "      <td>9</td>\n",
       "      <td>0</td>\n",
       "      <td>1</td>\n",
       "      <td>0</td>\n",
       "      <td>3595.89</td>\n",
       "      <td>1</td>\n",
       "      <td>-0.475274</td>\n",
       "      <td>-0.667841</td>\n",
       "      <td>0.266263</td>\n",
       "      <td>386.0</td>\n",
       "    </tr>\n",
       "    <tr>\n",
       "      <th>2</th>\n",
       "      <td>2</td>\n",
       "      <td>30</td>\n",
       "      <td>12</td>\n",
       "      <td>1</td>\n",
       "      <td>0</td>\n",
       "      <td>0</td>\n",
       "      <td>24909.50</td>\n",
       "      <td>1</td>\n",
       "      <td>0.652710</td>\n",
       "      <td>1.008039</td>\n",
       "      <td>0.450044</td>\n",
       "      <td>260.0</td>\n",
       "    </tr>\n",
       "    <tr>\n",
       "      <th>3</th>\n",
       "      <td>3</td>\n",
       "      <td>27</td>\n",
       "      <td>11</td>\n",
       "      <td>1</td>\n",
       "      <td>0</td>\n",
       "      <td>0</td>\n",
       "      <td>7506.15</td>\n",
       "      <td>1</td>\n",
       "      <td>0.229716</td>\n",
       "      <td>0.449412</td>\n",
       "      <td>0.426711</td>\n",
       "      <td>382.0</td>\n",
       "    </tr>\n",
       "    <tr>\n",
       "      <th>4</th>\n",
       "      <td>4</td>\n",
       "      <td>33</td>\n",
       "      <td>8</td>\n",
       "      <td>1</td>\n",
       "      <td>0</td>\n",
       "      <td>0</td>\n",
       "      <td>289.79</td>\n",
       "      <td>1</td>\n",
       "      <td>1.075704</td>\n",
       "      <td>-1.226468</td>\n",
       "      <td>0.398769</td>\n",
       "      <td>403.0</td>\n",
       "    </tr>\n",
       "  </tbody>\n",
       "</table>\n",
       "</div>"
      ],
      "text/plain": [
       "   ID  age  educ  black  hisp  married      re78  treat  scaled_age  \\\n",
       "0   0   37    11      1     0        1   9930.05      1    1.639696   \n",
       "1   1   22     9      0     1        0   3595.89      1   -0.475274   \n",
       "2   2   30    12      1     0        0  24909.50      1    0.652710   \n",
       "3   3   27    11      1     0        0   7506.15      1    0.229716   \n",
       "4   4   33     8      1     0        0    289.79      1    1.075704   \n",
       "\n",
       "   scaled_educ  pro_score  matched_element  \n",
       "0     0.449412   0.504408            305.0  \n",
       "1    -0.667841   0.266263            386.0  \n",
       "2     1.008039   0.450044            260.0  \n",
       "3     0.449412   0.426711            382.0  \n",
       "4    -1.226468   0.398769            403.0  "
      ]
     },
     "execution_count": 28,
     "metadata": {},
     "output_type": "execute_result"
    }
   ],
   "source": [
    "df2.head()"
   ]
  },
  {
   "cell_type": "code",
   "execution_count": 29,
   "id": "177746d8-15c4-488a-a194-aedbe14dcd3f",
   "metadata": {},
   "outputs": [
    {
     "name": "stderr",
     "output_type": "stream",
     "text": [
      "/var/folders/sd/6wq1tchj0tn1sg4yqxdqdrzs5mvkw7/T/ipykernel_11416/201902765.py:7: FutureWarning: The frame.append method is deprecated and will be removed from pandas in a future version. Use pandas.concat instead.\n",
      "  df3 = df3.append(match_row)\n",
      "/var/folders/sd/6wq1tchj0tn1sg4yqxdqdrzs5mvkw7/T/ipykernel_11416/201902765.py:7: FutureWarning: The frame.append method is deprecated and will be removed from pandas in a future version. Use pandas.concat instead.\n",
      "  df3 = df3.append(match_row)\n",
      "/var/folders/sd/6wq1tchj0tn1sg4yqxdqdrzs5mvkw7/T/ipykernel_11416/201902765.py:7: FutureWarning: The frame.append method is deprecated and will be removed from pandas in a future version. Use pandas.concat instead.\n",
      "  df3 = df3.append(match_row)\n",
      "/var/folders/sd/6wq1tchj0tn1sg4yqxdqdrzs5mvkw7/T/ipykernel_11416/201902765.py:7: FutureWarning: The frame.append method is deprecated and will be removed from pandas in a future version. Use pandas.concat instead.\n",
      "  df3 = df3.append(match_row)\n",
      "/var/folders/sd/6wq1tchj0tn1sg4yqxdqdrzs5mvkw7/T/ipykernel_11416/201902765.py:7: FutureWarning: The frame.append method is deprecated and will be removed from pandas in a future version. Use pandas.concat instead.\n",
      "  df3 = df3.append(match_row)\n",
      "/var/folders/sd/6wq1tchj0tn1sg4yqxdqdrzs5mvkw7/T/ipykernel_11416/201902765.py:7: FutureWarning: The frame.append method is deprecated and will be removed from pandas in a future version. Use pandas.concat instead.\n",
      "  df3 = df3.append(match_row)\n",
      "/var/folders/sd/6wq1tchj0tn1sg4yqxdqdrzs5mvkw7/T/ipykernel_11416/201902765.py:7: FutureWarning: The frame.append method is deprecated and will be removed from pandas in a future version. Use pandas.concat instead.\n",
      "  df3 = df3.append(match_row)\n",
      "/var/folders/sd/6wq1tchj0tn1sg4yqxdqdrzs5mvkw7/T/ipykernel_11416/201902765.py:7: FutureWarning: The frame.append method is deprecated and will be removed from pandas in a future version. Use pandas.concat instead.\n",
      "  df3 = df3.append(match_row)\n",
      "/var/folders/sd/6wq1tchj0tn1sg4yqxdqdrzs5mvkw7/T/ipykernel_11416/201902765.py:7: FutureWarning: The frame.append method is deprecated and will be removed from pandas in a future version. Use pandas.concat instead.\n",
      "  df3 = df3.append(match_row)\n",
      "/var/folders/sd/6wq1tchj0tn1sg4yqxdqdrzs5mvkw7/T/ipykernel_11416/201902765.py:7: FutureWarning: The frame.append method is deprecated and will be removed from pandas in a future version. Use pandas.concat instead.\n",
      "  df3 = df3.append(match_row)\n",
      "/var/folders/sd/6wq1tchj0tn1sg4yqxdqdrzs5mvkw7/T/ipykernel_11416/201902765.py:7: FutureWarning: The frame.append method is deprecated and will be removed from pandas in a future version. Use pandas.concat instead.\n",
      "  df3 = df3.append(match_row)\n",
      "/var/folders/sd/6wq1tchj0tn1sg4yqxdqdrzs5mvkw7/T/ipykernel_11416/201902765.py:7: FutureWarning: The frame.append method is deprecated and will be removed from pandas in a future version. Use pandas.concat instead.\n",
      "  df3 = df3.append(match_row)\n",
      "/var/folders/sd/6wq1tchj0tn1sg4yqxdqdrzs5mvkw7/T/ipykernel_11416/201902765.py:7: FutureWarning: The frame.append method is deprecated and will be removed from pandas in a future version. Use pandas.concat instead.\n",
      "  df3 = df3.append(match_row)\n",
      "/var/folders/sd/6wq1tchj0tn1sg4yqxdqdrzs5mvkw7/T/ipykernel_11416/201902765.py:7: FutureWarning: The frame.append method is deprecated and will be removed from pandas in a future version. Use pandas.concat instead.\n",
      "  df3 = df3.append(match_row)\n",
      "/var/folders/sd/6wq1tchj0tn1sg4yqxdqdrzs5mvkw7/T/ipykernel_11416/201902765.py:7: FutureWarning: The frame.append method is deprecated and will be removed from pandas in a future version. Use pandas.concat instead.\n",
      "  df3 = df3.append(match_row)\n",
      "/var/folders/sd/6wq1tchj0tn1sg4yqxdqdrzs5mvkw7/T/ipykernel_11416/201902765.py:7: FutureWarning: The frame.append method is deprecated and will be removed from pandas in a future version. Use pandas.concat instead.\n",
      "  df3 = df3.append(match_row)\n",
      "/var/folders/sd/6wq1tchj0tn1sg4yqxdqdrzs5mvkw7/T/ipykernel_11416/201902765.py:7: FutureWarning: The frame.append method is deprecated and will be removed from pandas in a future version. Use pandas.concat instead.\n",
      "  df3 = df3.append(match_row)\n",
      "/var/folders/sd/6wq1tchj0tn1sg4yqxdqdrzs5mvkw7/T/ipykernel_11416/201902765.py:7: FutureWarning: The frame.append method is deprecated and will be removed from pandas in a future version. Use pandas.concat instead.\n",
      "  df3 = df3.append(match_row)\n",
      "/var/folders/sd/6wq1tchj0tn1sg4yqxdqdrzs5mvkw7/T/ipykernel_11416/201902765.py:7: FutureWarning: The frame.append method is deprecated and will be removed from pandas in a future version. Use pandas.concat instead.\n",
      "  df3 = df3.append(match_row)\n",
      "/var/folders/sd/6wq1tchj0tn1sg4yqxdqdrzs5mvkw7/T/ipykernel_11416/201902765.py:7: FutureWarning: The frame.append method is deprecated and will be removed from pandas in a future version. Use pandas.concat instead.\n",
      "  df3 = df3.append(match_row)\n",
      "/var/folders/sd/6wq1tchj0tn1sg4yqxdqdrzs5mvkw7/T/ipykernel_11416/201902765.py:7: FutureWarning: The frame.append method is deprecated and will be removed from pandas in a future version. Use pandas.concat instead.\n",
      "  df3 = df3.append(match_row)\n",
      "/var/folders/sd/6wq1tchj0tn1sg4yqxdqdrzs5mvkw7/T/ipykernel_11416/201902765.py:7: FutureWarning: The frame.append method is deprecated and will be removed from pandas in a future version. Use pandas.concat instead.\n",
      "  df3 = df3.append(match_row)\n",
      "/var/folders/sd/6wq1tchj0tn1sg4yqxdqdrzs5mvkw7/T/ipykernel_11416/201902765.py:7: FutureWarning: The frame.append method is deprecated and will be removed from pandas in a future version. Use pandas.concat instead.\n",
      "  df3 = df3.append(match_row)\n",
      "/var/folders/sd/6wq1tchj0tn1sg4yqxdqdrzs5mvkw7/T/ipykernel_11416/201902765.py:7: FutureWarning: The frame.append method is deprecated and will be removed from pandas in a future version. Use pandas.concat instead.\n",
      "  df3 = df3.append(match_row)\n",
      "/var/folders/sd/6wq1tchj0tn1sg4yqxdqdrzs5mvkw7/T/ipykernel_11416/201902765.py:7: FutureWarning: The frame.append method is deprecated and will be removed from pandas in a future version. Use pandas.concat instead.\n",
      "  df3 = df3.append(match_row)\n",
      "/var/folders/sd/6wq1tchj0tn1sg4yqxdqdrzs5mvkw7/T/ipykernel_11416/201902765.py:7: FutureWarning: The frame.append method is deprecated and will be removed from pandas in a future version. Use pandas.concat instead.\n",
      "  df3 = df3.append(match_row)\n",
      "/var/folders/sd/6wq1tchj0tn1sg4yqxdqdrzs5mvkw7/T/ipykernel_11416/201902765.py:7: FutureWarning: The frame.append method is deprecated and will be removed from pandas in a future version. Use pandas.concat instead.\n",
      "  df3 = df3.append(match_row)\n",
      "/var/folders/sd/6wq1tchj0tn1sg4yqxdqdrzs5mvkw7/T/ipykernel_11416/201902765.py:7: FutureWarning: The frame.append method is deprecated and will be removed from pandas in a future version. Use pandas.concat instead.\n",
      "  df3 = df3.append(match_row)\n",
      "/var/folders/sd/6wq1tchj0tn1sg4yqxdqdrzs5mvkw7/T/ipykernel_11416/201902765.py:7: FutureWarning: The frame.append method is deprecated and will be removed from pandas in a future version. Use pandas.concat instead.\n",
      "  df3 = df3.append(match_row)\n",
      "/var/folders/sd/6wq1tchj0tn1sg4yqxdqdrzs5mvkw7/T/ipykernel_11416/201902765.py:7: FutureWarning: The frame.append method is deprecated and will be removed from pandas in a future version. Use pandas.concat instead.\n",
      "  df3 = df3.append(match_row)\n",
      "/var/folders/sd/6wq1tchj0tn1sg4yqxdqdrzs5mvkw7/T/ipykernel_11416/201902765.py:7: FutureWarning: The frame.append method is deprecated and will be removed from pandas in a future version. Use pandas.concat instead.\n",
      "  df3 = df3.append(match_row)\n",
      "/var/folders/sd/6wq1tchj0tn1sg4yqxdqdrzs5mvkw7/T/ipykernel_11416/201902765.py:7: FutureWarning: The frame.append method is deprecated and will be removed from pandas in a future version. Use pandas.concat instead.\n",
      "  df3 = df3.append(match_row)\n",
      "/var/folders/sd/6wq1tchj0tn1sg4yqxdqdrzs5mvkw7/T/ipykernel_11416/201902765.py:7: FutureWarning: The frame.append method is deprecated and will be removed from pandas in a future version. Use pandas.concat instead.\n",
      "  df3 = df3.append(match_row)\n",
      "/var/folders/sd/6wq1tchj0tn1sg4yqxdqdrzs5mvkw7/T/ipykernel_11416/201902765.py:7: FutureWarning: The frame.append method is deprecated and will be removed from pandas in a future version. Use pandas.concat instead.\n",
      "  df3 = df3.append(match_row)\n",
      "/var/folders/sd/6wq1tchj0tn1sg4yqxdqdrzs5mvkw7/T/ipykernel_11416/201902765.py:7: FutureWarning: The frame.append method is deprecated and will be removed from pandas in a future version. Use pandas.concat instead.\n",
      "  df3 = df3.append(match_row)\n",
      "/var/folders/sd/6wq1tchj0tn1sg4yqxdqdrzs5mvkw7/T/ipykernel_11416/201902765.py:7: FutureWarning: The frame.append method is deprecated and will be removed from pandas in a future version. Use pandas.concat instead.\n",
      "  df3 = df3.append(match_row)\n",
      "/var/folders/sd/6wq1tchj0tn1sg4yqxdqdrzs5mvkw7/T/ipykernel_11416/201902765.py:7: FutureWarning: The frame.append method is deprecated and will be removed from pandas in a future version. Use pandas.concat instead.\n",
      "  df3 = df3.append(match_row)\n",
      "/var/folders/sd/6wq1tchj0tn1sg4yqxdqdrzs5mvkw7/T/ipykernel_11416/201902765.py:7: FutureWarning: The frame.append method is deprecated and will be removed from pandas in a future version. Use pandas.concat instead.\n",
      "  df3 = df3.append(match_row)\n",
      "/var/folders/sd/6wq1tchj0tn1sg4yqxdqdrzs5mvkw7/T/ipykernel_11416/201902765.py:7: FutureWarning: The frame.append method is deprecated and will be removed from pandas in a future version. Use pandas.concat instead.\n",
      "  df3 = df3.append(match_row)\n",
      "/var/folders/sd/6wq1tchj0tn1sg4yqxdqdrzs5mvkw7/T/ipykernel_11416/201902765.py:7: FutureWarning: The frame.append method is deprecated and will be removed from pandas in a future version. Use pandas.concat instead.\n",
      "  df3 = df3.append(match_row)\n",
      "/var/folders/sd/6wq1tchj0tn1sg4yqxdqdrzs5mvkw7/T/ipykernel_11416/201902765.py:7: FutureWarning: The frame.append method is deprecated and will be removed from pandas in a future version. Use pandas.concat instead.\n",
      "  df3 = df3.append(match_row)\n",
      "/var/folders/sd/6wq1tchj0tn1sg4yqxdqdrzs5mvkw7/T/ipykernel_11416/201902765.py:7: FutureWarning: The frame.append method is deprecated and will be removed from pandas in a future version. Use pandas.concat instead.\n",
      "  df3 = df3.append(match_row)\n",
      "/var/folders/sd/6wq1tchj0tn1sg4yqxdqdrzs5mvkw7/T/ipykernel_11416/201902765.py:7: FutureWarning: The frame.append method is deprecated and will be removed from pandas in a future version. Use pandas.concat instead.\n",
      "  df3 = df3.append(match_row)\n",
      "/var/folders/sd/6wq1tchj0tn1sg4yqxdqdrzs5mvkw7/T/ipykernel_11416/201902765.py:7: FutureWarning: The frame.append method is deprecated and will be removed from pandas in a future version. Use pandas.concat instead.\n",
      "  df3 = df3.append(match_row)\n",
      "/var/folders/sd/6wq1tchj0tn1sg4yqxdqdrzs5mvkw7/T/ipykernel_11416/201902765.py:7: FutureWarning: The frame.append method is deprecated and will be removed from pandas in a future version. Use pandas.concat instead.\n",
      "  df3 = df3.append(match_row)\n",
      "/var/folders/sd/6wq1tchj0tn1sg4yqxdqdrzs5mvkw7/T/ipykernel_11416/201902765.py:7: FutureWarning: The frame.append method is deprecated and will be removed from pandas in a future version. Use pandas.concat instead.\n",
      "  df3 = df3.append(match_row)\n",
      "/var/folders/sd/6wq1tchj0tn1sg4yqxdqdrzs5mvkw7/T/ipykernel_11416/201902765.py:7: FutureWarning: The frame.append method is deprecated and will be removed from pandas in a future version. Use pandas.concat instead.\n",
      "  df3 = df3.append(match_row)\n",
      "/var/folders/sd/6wq1tchj0tn1sg4yqxdqdrzs5mvkw7/T/ipykernel_11416/201902765.py:7: FutureWarning: The frame.append method is deprecated and will be removed from pandas in a future version. Use pandas.concat instead.\n",
      "  df3 = df3.append(match_row)\n",
      "/var/folders/sd/6wq1tchj0tn1sg4yqxdqdrzs5mvkw7/T/ipykernel_11416/201902765.py:7: FutureWarning: The frame.append method is deprecated and will be removed from pandas in a future version. Use pandas.concat instead.\n",
      "  df3 = df3.append(match_row)\n",
      "/var/folders/sd/6wq1tchj0tn1sg4yqxdqdrzs5mvkw7/T/ipykernel_11416/201902765.py:7: FutureWarning: The frame.append method is deprecated and will be removed from pandas in a future version. Use pandas.concat instead.\n",
      "  df3 = df3.append(match_row)\n",
      "/var/folders/sd/6wq1tchj0tn1sg4yqxdqdrzs5mvkw7/T/ipykernel_11416/201902765.py:7: FutureWarning: The frame.append method is deprecated and will be removed from pandas in a future version. Use pandas.concat instead.\n",
      "  df3 = df3.append(match_row)\n",
      "/var/folders/sd/6wq1tchj0tn1sg4yqxdqdrzs5mvkw7/T/ipykernel_11416/201902765.py:7: FutureWarning: The frame.append method is deprecated and will be removed from pandas in a future version. Use pandas.concat instead.\n",
      "  df3 = df3.append(match_row)\n",
      "/var/folders/sd/6wq1tchj0tn1sg4yqxdqdrzs5mvkw7/T/ipykernel_11416/201902765.py:7: FutureWarning: The frame.append method is deprecated and will be removed from pandas in a future version. Use pandas.concat instead.\n",
      "  df3 = df3.append(match_row)\n",
      "/var/folders/sd/6wq1tchj0tn1sg4yqxdqdrzs5mvkw7/T/ipykernel_11416/201902765.py:7: FutureWarning: The frame.append method is deprecated and will be removed from pandas in a future version. Use pandas.concat instead.\n",
      "  df3 = df3.append(match_row)\n",
      "/var/folders/sd/6wq1tchj0tn1sg4yqxdqdrzs5mvkw7/T/ipykernel_11416/201902765.py:7: FutureWarning: The frame.append method is deprecated and will be removed from pandas in a future version. Use pandas.concat instead.\n",
      "  df3 = df3.append(match_row)\n",
      "/var/folders/sd/6wq1tchj0tn1sg4yqxdqdrzs5mvkw7/T/ipykernel_11416/201902765.py:7: FutureWarning: The frame.append method is deprecated and will be removed from pandas in a future version. Use pandas.concat instead.\n",
      "  df3 = df3.append(match_row)\n",
      "/var/folders/sd/6wq1tchj0tn1sg4yqxdqdrzs5mvkw7/T/ipykernel_11416/201902765.py:7: FutureWarning: The frame.append method is deprecated and will be removed from pandas in a future version. Use pandas.concat instead.\n",
      "  df3 = df3.append(match_row)\n",
      "/var/folders/sd/6wq1tchj0tn1sg4yqxdqdrzs5mvkw7/T/ipykernel_11416/201902765.py:7: FutureWarning: The frame.append method is deprecated and will be removed from pandas in a future version. Use pandas.concat instead.\n",
      "  df3 = df3.append(match_row)\n",
      "/var/folders/sd/6wq1tchj0tn1sg4yqxdqdrzs5mvkw7/T/ipykernel_11416/201902765.py:7: FutureWarning: The frame.append method is deprecated and will be removed from pandas in a future version. Use pandas.concat instead.\n",
      "  df3 = df3.append(match_row)\n",
      "/var/folders/sd/6wq1tchj0tn1sg4yqxdqdrzs5mvkw7/T/ipykernel_11416/201902765.py:7: FutureWarning: The frame.append method is deprecated and will be removed from pandas in a future version. Use pandas.concat instead.\n",
      "  df3 = df3.append(match_row)\n",
      "/var/folders/sd/6wq1tchj0tn1sg4yqxdqdrzs5mvkw7/T/ipykernel_11416/201902765.py:7: FutureWarning: The frame.append method is deprecated and will be removed from pandas in a future version. Use pandas.concat instead.\n",
      "  df3 = df3.append(match_row)\n",
      "/var/folders/sd/6wq1tchj0tn1sg4yqxdqdrzs5mvkw7/T/ipykernel_11416/201902765.py:7: FutureWarning: The frame.append method is deprecated and will be removed from pandas in a future version. Use pandas.concat instead.\n",
      "  df3 = df3.append(match_row)\n",
      "/var/folders/sd/6wq1tchj0tn1sg4yqxdqdrzs5mvkw7/T/ipykernel_11416/201902765.py:7: FutureWarning: The frame.append method is deprecated and will be removed from pandas in a future version. Use pandas.concat instead.\n",
      "  df3 = df3.append(match_row)\n",
      "/var/folders/sd/6wq1tchj0tn1sg4yqxdqdrzs5mvkw7/T/ipykernel_11416/201902765.py:7: FutureWarning: The frame.append method is deprecated and will be removed from pandas in a future version. Use pandas.concat instead.\n",
      "  df3 = df3.append(match_row)\n",
      "/var/folders/sd/6wq1tchj0tn1sg4yqxdqdrzs5mvkw7/T/ipykernel_11416/201902765.py:7: FutureWarning: The frame.append method is deprecated and will be removed from pandas in a future version. Use pandas.concat instead.\n",
      "  df3 = df3.append(match_row)\n",
      "/var/folders/sd/6wq1tchj0tn1sg4yqxdqdrzs5mvkw7/T/ipykernel_11416/201902765.py:7: FutureWarning: The frame.append method is deprecated and will be removed from pandas in a future version. Use pandas.concat instead.\n",
      "  df3 = df3.append(match_row)\n",
      "/var/folders/sd/6wq1tchj0tn1sg4yqxdqdrzs5mvkw7/T/ipykernel_11416/201902765.py:7: FutureWarning: The frame.append method is deprecated and will be removed from pandas in a future version. Use pandas.concat instead.\n",
      "  df3 = df3.append(match_row)\n",
      "/var/folders/sd/6wq1tchj0tn1sg4yqxdqdrzs5mvkw7/T/ipykernel_11416/201902765.py:7: FutureWarning: The frame.append method is deprecated and will be removed from pandas in a future version. Use pandas.concat instead.\n",
      "  df3 = df3.append(match_row)\n",
      "/var/folders/sd/6wq1tchj0tn1sg4yqxdqdrzs5mvkw7/T/ipykernel_11416/201902765.py:7: FutureWarning: The frame.append method is deprecated and will be removed from pandas in a future version. Use pandas.concat instead.\n",
      "  df3 = df3.append(match_row)\n",
      "/var/folders/sd/6wq1tchj0tn1sg4yqxdqdrzs5mvkw7/T/ipykernel_11416/201902765.py:7: FutureWarning: The frame.append method is deprecated and will be removed from pandas in a future version. Use pandas.concat instead.\n",
      "  df3 = df3.append(match_row)\n",
      "/var/folders/sd/6wq1tchj0tn1sg4yqxdqdrzs5mvkw7/T/ipykernel_11416/201902765.py:7: FutureWarning: The frame.append method is deprecated and will be removed from pandas in a future version. Use pandas.concat instead.\n",
      "  df3 = df3.append(match_row)\n",
      "/var/folders/sd/6wq1tchj0tn1sg4yqxdqdrzs5mvkw7/T/ipykernel_11416/201902765.py:7: FutureWarning: The frame.append method is deprecated and will be removed from pandas in a future version. Use pandas.concat instead.\n",
      "  df3 = df3.append(match_row)\n",
      "/var/folders/sd/6wq1tchj0tn1sg4yqxdqdrzs5mvkw7/T/ipykernel_11416/201902765.py:7: FutureWarning: The frame.append method is deprecated and will be removed from pandas in a future version. Use pandas.concat instead.\n",
      "  df3 = df3.append(match_row)\n",
      "/var/folders/sd/6wq1tchj0tn1sg4yqxdqdrzs5mvkw7/T/ipykernel_11416/201902765.py:7: FutureWarning: The frame.append method is deprecated and will be removed from pandas in a future version. Use pandas.concat instead.\n",
      "  df3 = df3.append(match_row)\n",
      "/var/folders/sd/6wq1tchj0tn1sg4yqxdqdrzs5mvkw7/T/ipykernel_11416/201902765.py:7: FutureWarning: The frame.append method is deprecated and will be removed from pandas in a future version. Use pandas.concat instead.\n",
      "  df3 = df3.append(match_row)\n",
      "/var/folders/sd/6wq1tchj0tn1sg4yqxdqdrzs5mvkw7/T/ipykernel_11416/201902765.py:7: FutureWarning: The frame.append method is deprecated and will be removed from pandas in a future version. Use pandas.concat instead.\n",
      "  df3 = df3.append(match_row)\n",
      "/var/folders/sd/6wq1tchj0tn1sg4yqxdqdrzs5mvkw7/T/ipykernel_11416/201902765.py:7: FutureWarning: The frame.append method is deprecated and will be removed from pandas in a future version. Use pandas.concat instead.\n",
      "  df3 = df3.append(match_row)\n",
      "/var/folders/sd/6wq1tchj0tn1sg4yqxdqdrzs5mvkw7/T/ipykernel_11416/201902765.py:7: FutureWarning: The frame.append method is deprecated and will be removed from pandas in a future version. Use pandas.concat instead.\n",
      "  df3 = df3.append(match_row)\n",
      "/var/folders/sd/6wq1tchj0tn1sg4yqxdqdrzs5mvkw7/T/ipykernel_11416/201902765.py:7: FutureWarning: The frame.append method is deprecated and will be removed from pandas in a future version. Use pandas.concat instead.\n",
      "  df3 = df3.append(match_row)\n",
      "/var/folders/sd/6wq1tchj0tn1sg4yqxdqdrzs5mvkw7/T/ipykernel_11416/201902765.py:7: FutureWarning: The frame.append method is deprecated and will be removed from pandas in a future version. Use pandas.concat instead.\n",
      "  df3 = df3.append(match_row)\n",
      "/var/folders/sd/6wq1tchj0tn1sg4yqxdqdrzs5mvkw7/T/ipykernel_11416/201902765.py:7: FutureWarning: The frame.append method is deprecated and will be removed from pandas in a future version. Use pandas.concat instead.\n",
      "  df3 = df3.append(match_row)\n",
      "/var/folders/sd/6wq1tchj0tn1sg4yqxdqdrzs5mvkw7/T/ipykernel_11416/201902765.py:7: FutureWarning: The frame.append method is deprecated and will be removed from pandas in a future version. Use pandas.concat instead.\n",
      "  df3 = df3.append(match_row)\n",
      "/var/folders/sd/6wq1tchj0tn1sg4yqxdqdrzs5mvkw7/T/ipykernel_11416/201902765.py:7: FutureWarning: The frame.append method is deprecated and will be removed from pandas in a future version. Use pandas.concat instead.\n",
      "  df3 = df3.append(match_row)\n",
      "/var/folders/sd/6wq1tchj0tn1sg4yqxdqdrzs5mvkw7/T/ipykernel_11416/201902765.py:7: FutureWarning: The frame.append method is deprecated and will be removed from pandas in a future version. Use pandas.concat instead.\n",
      "  df3 = df3.append(match_row)\n",
      "/var/folders/sd/6wq1tchj0tn1sg4yqxdqdrzs5mvkw7/T/ipykernel_11416/201902765.py:7: FutureWarning: The frame.append method is deprecated and will be removed from pandas in a future version. Use pandas.concat instead.\n",
      "  df3 = df3.append(match_row)\n",
      "/var/folders/sd/6wq1tchj0tn1sg4yqxdqdrzs5mvkw7/T/ipykernel_11416/201902765.py:7: FutureWarning: The frame.append method is deprecated and will be removed from pandas in a future version. Use pandas.concat instead.\n",
      "  df3 = df3.append(match_row)\n",
      "/var/folders/sd/6wq1tchj0tn1sg4yqxdqdrzs5mvkw7/T/ipykernel_11416/201902765.py:7: FutureWarning: The frame.append method is deprecated and will be removed from pandas in a future version. Use pandas.concat instead.\n",
      "  df3 = df3.append(match_row)\n",
      "/var/folders/sd/6wq1tchj0tn1sg4yqxdqdrzs5mvkw7/T/ipykernel_11416/201902765.py:7: FutureWarning: The frame.append method is deprecated and will be removed from pandas in a future version. Use pandas.concat instead.\n",
      "  df3 = df3.append(match_row)\n",
      "/var/folders/sd/6wq1tchj0tn1sg4yqxdqdrzs5mvkw7/T/ipykernel_11416/201902765.py:7: FutureWarning: The frame.append method is deprecated and will be removed from pandas in a future version. Use pandas.concat instead.\n",
      "  df3 = df3.append(match_row)\n",
      "/var/folders/sd/6wq1tchj0tn1sg4yqxdqdrzs5mvkw7/T/ipykernel_11416/201902765.py:7: FutureWarning: The frame.append method is deprecated and will be removed from pandas in a future version. Use pandas.concat instead.\n",
      "  df3 = df3.append(match_row)\n",
      "/var/folders/sd/6wq1tchj0tn1sg4yqxdqdrzs5mvkw7/T/ipykernel_11416/201902765.py:7: FutureWarning: The frame.append method is deprecated and will be removed from pandas in a future version. Use pandas.concat instead.\n",
      "  df3 = df3.append(match_row)\n",
      "/var/folders/sd/6wq1tchj0tn1sg4yqxdqdrzs5mvkw7/T/ipykernel_11416/201902765.py:7: FutureWarning: The frame.append method is deprecated and will be removed from pandas in a future version. Use pandas.concat instead.\n",
      "  df3 = df3.append(match_row)\n",
      "/var/folders/sd/6wq1tchj0tn1sg4yqxdqdrzs5mvkw7/T/ipykernel_11416/201902765.py:7: FutureWarning: The frame.append method is deprecated and will be removed from pandas in a future version. Use pandas.concat instead.\n",
      "  df3 = df3.append(match_row)\n",
      "/var/folders/sd/6wq1tchj0tn1sg4yqxdqdrzs5mvkw7/T/ipykernel_11416/201902765.py:7: FutureWarning: The frame.append method is deprecated and will be removed from pandas in a future version. Use pandas.concat instead.\n",
      "  df3 = df3.append(match_row)\n",
      "/var/folders/sd/6wq1tchj0tn1sg4yqxdqdrzs5mvkw7/T/ipykernel_11416/201902765.py:7: FutureWarning: The frame.append method is deprecated and will be removed from pandas in a future version. Use pandas.concat instead.\n",
      "  df3 = df3.append(match_row)\n",
      "/var/folders/sd/6wq1tchj0tn1sg4yqxdqdrzs5mvkw7/T/ipykernel_11416/201902765.py:7: FutureWarning: The frame.append method is deprecated and will be removed from pandas in a future version. Use pandas.concat instead.\n",
      "  df3 = df3.append(match_row)\n",
      "/var/folders/sd/6wq1tchj0tn1sg4yqxdqdrzs5mvkw7/T/ipykernel_11416/201902765.py:7: FutureWarning: The frame.append method is deprecated and will be removed from pandas in a future version. Use pandas.concat instead.\n",
      "  df3 = df3.append(match_row)\n",
      "/var/folders/sd/6wq1tchj0tn1sg4yqxdqdrzs5mvkw7/T/ipykernel_11416/201902765.py:7: FutureWarning: The frame.append method is deprecated and will be removed from pandas in a future version. Use pandas.concat instead.\n",
      "  df3 = df3.append(match_row)\n",
      "/var/folders/sd/6wq1tchj0tn1sg4yqxdqdrzs5mvkw7/T/ipykernel_11416/201902765.py:7: FutureWarning: The frame.append method is deprecated and will be removed from pandas in a future version. Use pandas.concat instead.\n",
      "  df3 = df3.append(match_row)\n",
      "/var/folders/sd/6wq1tchj0tn1sg4yqxdqdrzs5mvkw7/T/ipykernel_11416/201902765.py:7: FutureWarning: The frame.append method is deprecated and will be removed from pandas in a future version. Use pandas.concat instead.\n",
      "  df3 = df3.append(match_row)\n",
      "/var/folders/sd/6wq1tchj0tn1sg4yqxdqdrzs5mvkw7/T/ipykernel_11416/201902765.py:7: FutureWarning: The frame.append method is deprecated and will be removed from pandas in a future version. Use pandas.concat instead.\n",
      "  df3 = df3.append(match_row)\n",
      "/var/folders/sd/6wq1tchj0tn1sg4yqxdqdrzs5mvkw7/T/ipykernel_11416/201902765.py:7: FutureWarning: The frame.append method is deprecated and will be removed from pandas in a future version. Use pandas.concat instead.\n",
      "  df3 = df3.append(match_row)\n",
      "/var/folders/sd/6wq1tchj0tn1sg4yqxdqdrzs5mvkw7/T/ipykernel_11416/201902765.py:7: FutureWarning: The frame.append method is deprecated and will be removed from pandas in a future version. Use pandas.concat instead.\n",
      "  df3 = df3.append(match_row)\n",
      "/var/folders/sd/6wq1tchj0tn1sg4yqxdqdrzs5mvkw7/T/ipykernel_11416/201902765.py:7: FutureWarning: The frame.append method is deprecated and will be removed from pandas in a future version. Use pandas.concat instead.\n",
      "  df3 = df3.append(match_row)\n",
      "/var/folders/sd/6wq1tchj0tn1sg4yqxdqdrzs5mvkw7/T/ipykernel_11416/201902765.py:7: FutureWarning: The frame.append method is deprecated and will be removed from pandas in a future version. Use pandas.concat instead.\n",
      "  df3 = df3.append(match_row)\n",
      "/var/folders/sd/6wq1tchj0tn1sg4yqxdqdrzs5mvkw7/T/ipykernel_11416/201902765.py:7: FutureWarning: The frame.append method is deprecated and will be removed from pandas in a future version. Use pandas.concat instead.\n",
      "  df3 = df3.append(match_row)\n",
      "/var/folders/sd/6wq1tchj0tn1sg4yqxdqdrzs5mvkw7/T/ipykernel_11416/201902765.py:7: FutureWarning: The frame.append method is deprecated and will be removed from pandas in a future version. Use pandas.concat instead.\n",
      "  df3 = df3.append(match_row)\n",
      "/var/folders/sd/6wq1tchj0tn1sg4yqxdqdrzs5mvkw7/T/ipykernel_11416/201902765.py:7: FutureWarning: The frame.append method is deprecated and will be removed from pandas in a future version. Use pandas.concat instead.\n",
      "  df3 = df3.append(match_row)\n",
      "/var/folders/sd/6wq1tchj0tn1sg4yqxdqdrzs5mvkw7/T/ipykernel_11416/201902765.py:7: FutureWarning: The frame.append method is deprecated and will be removed from pandas in a future version. Use pandas.concat instead.\n",
      "  df3 = df3.append(match_row)\n",
      "/var/folders/sd/6wq1tchj0tn1sg4yqxdqdrzs5mvkw7/T/ipykernel_11416/201902765.py:7: FutureWarning: The frame.append method is deprecated and will be removed from pandas in a future version. Use pandas.concat instead.\n",
      "  df3 = df3.append(match_row)\n",
      "/var/folders/sd/6wq1tchj0tn1sg4yqxdqdrzs5mvkw7/T/ipykernel_11416/201902765.py:7: FutureWarning: The frame.append method is deprecated and will be removed from pandas in a future version. Use pandas.concat instead.\n",
      "  df3 = df3.append(match_row)\n",
      "/var/folders/sd/6wq1tchj0tn1sg4yqxdqdrzs5mvkw7/T/ipykernel_11416/201902765.py:7: FutureWarning: The frame.append method is deprecated and will be removed from pandas in a future version. Use pandas.concat instead.\n",
      "  df3 = df3.append(match_row)\n",
      "/var/folders/sd/6wq1tchj0tn1sg4yqxdqdrzs5mvkw7/T/ipykernel_11416/201902765.py:7: FutureWarning: The frame.append method is deprecated and will be removed from pandas in a future version. Use pandas.concat instead.\n",
      "  df3 = df3.append(match_row)\n",
      "/var/folders/sd/6wq1tchj0tn1sg4yqxdqdrzs5mvkw7/T/ipykernel_11416/201902765.py:7: FutureWarning: The frame.append method is deprecated and will be removed from pandas in a future version. Use pandas.concat instead.\n",
      "  df3 = df3.append(match_row)\n",
      "/var/folders/sd/6wq1tchj0tn1sg4yqxdqdrzs5mvkw7/T/ipykernel_11416/201902765.py:7: FutureWarning: The frame.append method is deprecated and will be removed from pandas in a future version. Use pandas.concat instead.\n",
      "  df3 = df3.append(match_row)\n",
      "/var/folders/sd/6wq1tchj0tn1sg4yqxdqdrzs5mvkw7/T/ipykernel_11416/201902765.py:7: FutureWarning: The frame.append method is deprecated and will be removed from pandas in a future version. Use pandas.concat instead.\n",
      "  df3 = df3.append(match_row)\n",
      "/var/folders/sd/6wq1tchj0tn1sg4yqxdqdrzs5mvkw7/T/ipykernel_11416/201902765.py:7: FutureWarning: The frame.append method is deprecated and will be removed from pandas in a future version. Use pandas.concat instead.\n",
      "  df3 = df3.append(match_row)\n",
      "/var/folders/sd/6wq1tchj0tn1sg4yqxdqdrzs5mvkw7/T/ipykernel_11416/201902765.py:7: FutureWarning: The frame.append method is deprecated and will be removed from pandas in a future version. Use pandas.concat instead.\n",
      "  df3 = df3.append(match_row)\n",
      "/var/folders/sd/6wq1tchj0tn1sg4yqxdqdrzs5mvkw7/T/ipykernel_11416/201902765.py:7: FutureWarning: The frame.append method is deprecated and will be removed from pandas in a future version. Use pandas.concat instead.\n",
      "  df3 = df3.append(match_row)\n",
      "/var/folders/sd/6wq1tchj0tn1sg4yqxdqdrzs5mvkw7/T/ipykernel_11416/201902765.py:7: FutureWarning: The frame.append method is deprecated and will be removed from pandas in a future version. Use pandas.concat instead.\n",
      "  df3 = df3.append(match_row)\n",
      "/var/folders/sd/6wq1tchj0tn1sg4yqxdqdrzs5mvkw7/T/ipykernel_11416/201902765.py:7: FutureWarning: The frame.append method is deprecated and will be removed from pandas in a future version. Use pandas.concat instead.\n",
      "  df3 = df3.append(match_row)\n",
      "/var/folders/sd/6wq1tchj0tn1sg4yqxdqdrzs5mvkw7/T/ipykernel_11416/201902765.py:7: FutureWarning: The frame.append method is deprecated and will be removed from pandas in a future version. Use pandas.concat instead.\n",
      "  df3 = df3.append(match_row)\n",
      "/var/folders/sd/6wq1tchj0tn1sg4yqxdqdrzs5mvkw7/T/ipykernel_11416/201902765.py:7: FutureWarning: The frame.append method is deprecated and will be removed from pandas in a future version. Use pandas.concat instead.\n",
      "  df3 = df3.append(match_row)\n",
      "/var/folders/sd/6wq1tchj0tn1sg4yqxdqdrzs5mvkw7/T/ipykernel_11416/201902765.py:7: FutureWarning: The frame.append method is deprecated and will be removed from pandas in a future version. Use pandas.concat instead.\n",
      "  df3 = df3.append(match_row)\n",
      "/var/folders/sd/6wq1tchj0tn1sg4yqxdqdrzs5mvkw7/T/ipykernel_11416/201902765.py:7: FutureWarning: The frame.append method is deprecated and will be removed from pandas in a future version. Use pandas.concat instead.\n",
      "  df3 = df3.append(match_row)\n",
      "/var/folders/sd/6wq1tchj0tn1sg4yqxdqdrzs5mvkw7/T/ipykernel_11416/201902765.py:7: FutureWarning: The frame.append method is deprecated and will be removed from pandas in a future version. Use pandas.concat instead.\n",
      "  df3 = df3.append(match_row)\n",
      "/var/folders/sd/6wq1tchj0tn1sg4yqxdqdrzs5mvkw7/T/ipykernel_11416/201902765.py:7: FutureWarning: The frame.append method is deprecated and will be removed from pandas in a future version. Use pandas.concat instead.\n",
      "  df3 = df3.append(match_row)\n",
      "/var/folders/sd/6wq1tchj0tn1sg4yqxdqdrzs5mvkw7/T/ipykernel_11416/201902765.py:7: FutureWarning: The frame.append method is deprecated and will be removed from pandas in a future version. Use pandas.concat instead.\n",
      "  df3 = df3.append(match_row)\n",
      "/var/folders/sd/6wq1tchj0tn1sg4yqxdqdrzs5mvkw7/T/ipykernel_11416/201902765.py:7: FutureWarning: The frame.append method is deprecated and will be removed from pandas in a future version. Use pandas.concat instead.\n",
      "  df3 = df3.append(match_row)\n",
      "/var/folders/sd/6wq1tchj0tn1sg4yqxdqdrzs5mvkw7/T/ipykernel_11416/201902765.py:7: FutureWarning: The frame.append method is deprecated and will be removed from pandas in a future version. Use pandas.concat instead.\n",
      "  df3 = df3.append(match_row)\n",
      "/var/folders/sd/6wq1tchj0tn1sg4yqxdqdrzs5mvkw7/T/ipykernel_11416/201902765.py:7: FutureWarning: The frame.append method is deprecated and will be removed from pandas in a future version. Use pandas.concat instead.\n",
      "  df3 = df3.append(match_row)\n",
      "/var/folders/sd/6wq1tchj0tn1sg4yqxdqdrzs5mvkw7/T/ipykernel_11416/201902765.py:7: FutureWarning: The frame.append method is deprecated and will be removed from pandas in a future version. Use pandas.concat instead.\n",
      "  df3 = df3.append(match_row)\n",
      "/var/folders/sd/6wq1tchj0tn1sg4yqxdqdrzs5mvkw7/T/ipykernel_11416/201902765.py:7: FutureWarning: The frame.append method is deprecated and will be removed from pandas in a future version. Use pandas.concat instead.\n",
      "  df3 = df3.append(match_row)\n",
      "/var/folders/sd/6wq1tchj0tn1sg4yqxdqdrzs5mvkw7/T/ipykernel_11416/201902765.py:7: FutureWarning: The frame.append method is deprecated and will be removed from pandas in a future version. Use pandas.concat instead.\n",
      "  df3 = df3.append(match_row)\n",
      "/var/folders/sd/6wq1tchj0tn1sg4yqxdqdrzs5mvkw7/T/ipykernel_11416/201902765.py:7: FutureWarning: The frame.append method is deprecated and will be removed from pandas in a future version. Use pandas.concat instead.\n",
      "  df3 = df3.append(match_row)\n",
      "/var/folders/sd/6wq1tchj0tn1sg4yqxdqdrzs5mvkw7/T/ipykernel_11416/201902765.py:7: FutureWarning: The frame.append method is deprecated and will be removed from pandas in a future version. Use pandas.concat instead.\n",
      "  df3 = df3.append(match_row)\n",
      "/var/folders/sd/6wq1tchj0tn1sg4yqxdqdrzs5mvkw7/T/ipykernel_11416/201902765.py:7: FutureWarning: The frame.append method is deprecated and will be removed from pandas in a future version. Use pandas.concat instead.\n",
      "  df3 = df3.append(match_row)\n",
      "/var/folders/sd/6wq1tchj0tn1sg4yqxdqdrzs5mvkw7/T/ipykernel_11416/201902765.py:7: FutureWarning: The frame.append method is deprecated and will be removed from pandas in a future version. Use pandas.concat instead.\n",
      "  df3 = df3.append(match_row)\n",
      "/var/folders/sd/6wq1tchj0tn1sg4yqxdqdrzs5mvkw7/T/ipykernel_11416/201902765.py:7: FutureWarning: The frame.append method is deprecated and will be removed from pandas in a future version. Use pandas.concat instead.\n",
      "  df3 = df3.append(match_row)\n",
      "/var/folders/sd/6wq1tchj0tn1sg4yqxdqdrzs5mvkw7/T/ipykernel_11416/201902765.py:7: FutureWarning: The frame.append method is deprecated and will be removed from pandas in a future version. Use pandas.concat instead.\n",
      "  df3 = df3.append(match_row)\n",
      "/var/folders/sd/6wq1tchj0tn1sg4yqxdqdrzs5mvkw7/T/ipykernel_11416/201902765.py:7: FutureWarning: The frame.append method is deprecated and will be removed from pandas in a future version. Use pandas.concat instead.\n",
      "  df3 = df3.append(match_row)\n",
      "/var/folders/sd/6wq1tchj0tn1sg4yqxdqdrzs5mvkw7/T/ipykernel_11416/201902765.py:7: FutureWarning: The frame.append method is deprecated and will be removed from pandas in a future version. Use pandas.concat instead.\n",
      "  df3 = df3.append(match_row)\n",
      "/var/folders/sd/6wq1tchj0tn1sg4yqxdqdrzs5mvkw7/T/ipykernel_11416/201902765.py:7: FutureWarning: The frame.append method is deprecated and will be removed from pandas in a future version. Use pandas.concat instead.\n",
      "  df3 = df3.append(match_row)\n",
      "/var/folders/sd/6wq1tchj0tn1sg4yqxdqdrzs5mvkw7/T/ipykernel_11416/201902765.py:7: FutureWarning: The frame.append method is deprecated and will be removed from pandas in a future version. Use pandas.concat instead.\n",
      "  df3 = df3.append(match_row)\n",
      "/var/folders/sd/6wq1tchj0tn1sg4yqxdqdrzs5mvkw7/T/ipykernel_11416/201902765.py:7: FutureWarning: The frame.append method is deprecated and will be removed from pandas in a future version. Use pandas.concat instead.\n",
      "  df3 = df3.append(match_row)\n",
      "/var/folders/sd/6wq1tchj0tn1sg4yqxdqdrzs5mvkw7/T/ipykernel_11416/201902765.py:7: FutureWarning: The frame.append method is deprecated and will be removed from pandas in a future version. Use pandas.concat instead.\n",
      "  df3 = df3.append(match_row)\n",
      "/var/folders/sd/6wq1tchj0tn1sg4yqxdqdrzs5mvkw7/T/ipykernel_11416/201902765.py:7: FutureWarning: The frame.append method is deprecated and will be removed from pandas in a future version. Use pandas.concat instead.\n",
      "  df3 = df3.append(match_row)\n",
      "/var/folders/sd/6wq1tchj0tn1sg4yqxdqdrzs5mvkw7/T/ipykernel_11416/201902765.py:7: FutureWarning: The frame.append method is deprecated and will be removed from pandas in a future version. Use pandas.concat instead.\n",
      "  df3 = df3.append(match_row)\n",
      "/var/folders/sd/6wq1tchj0tn1sg4yqxdqdrzs5mvkw7/T/ipykernel_11416/201902765.py:7: FutureWarning: The frame.append method is deprecated and will be removed from pandas in a future version. Use pandas.concat instead.\n",
      "  df3 = df3.append(match_row)\n",
      "/var/folders/sd/6wq1tchj0tn1sg4yqxdqdrzs5mvkw7/T/ipykernel_11416/201902765.py:7: FutureWarning: The frame.append method is deprecated and will be removed from pandas in a future version. Use pandas.concat instead.\n",
      "  df3 = df3.append(match_row)\n",
      "/var/folders/sd/6wq1tchj0tn1sg4yqxdqdrzs5mvkw7/T/ipykernel_11416/201902765.py:7: FutureWarning: The frame.append method is deprecated and will be removed from pandas in a future version. Use pandas.concat instead.\n",
      "  df3 = df3.append(match_row)\n",
      "/var/folders/sd/6wq1tchj0tn1sg4yqxdqdrzs5mvkw7/T/ipykernel_11416/201902765.py:7: FutureWarning: The frame.append method is deprecated and will be removed from pandas in a future version. Use pandas.concat instead.\n",
      "  df3 = df3.append(match_row)\n",
      "/var/folders/sd/6wq1tchj0tn1sg4yqxdqdrzs5mvkw7/T/ipykernel_11416/201902765.py:7: FutureWarning: The frame.append method is deprecated and will be removed from pandas in a future version. Use pandas.concat instead.\n",
      "  df3 = df3.append(match_row)\n",
      "/var/folders/sd/6wq1tchj0tn1sg4yqxdqdrzs5mvkw7/T/ipykernel_11416/201902765.py:7: FutureWarning: The frame.append method is deprecated and will be removed from pandas in a future version. Use pandas.concat instead.\n",
      "  df3 = df3.append(match_row)\n",
      "/var/folders/sd/6wq1tchj0tn1sg4yqxdqdrzs5mvkw7/T/ipykernel_11416/201902765.py:7: FutureWarning: The frame.append method is deprecated and will be removed from pandas in a future version. Use pandas.concat instead.\n",
      "  df3 = df3.append(match_row)\n",
      "/var/folders/sd/6wq1tchj0tn1sg4yqxdqdrzs5mvkw7/T/ipykernel_11416/201902765.py:7: FutureWarning: The frame.append method is deprecated and will be removed from pandas in a future version. Use pandas.concat instead.\n",
      "  df3 = df3.append(match_row)\n",
      "/var/folders/sd/6wq1tchj0tn1sg4yqxdqdrzs5mvkw7/T/ipykernel_11416/201902765.py:7: FutureWarning: The frame.append method is deprecated and will be removed from pandas in a future version. Use pandas.concat instead.\n",
      "  df3 = df3.append(match_row)\n",
      "/var/folders/sd/6wq1tchj0tn1sg4yqxdqdrzs5mvkw7/T/ipykernel_11416/201902765.py:7: FutureWarning: The frame.append method is deprecated and will be removed from pandas in a future version. Use pandas.concat instead.\n",
      "  df3 = df3.append(match_row)\n",
      "/var/folders/sd/6wq1tchj0tn1sg4yqxdqdrzs5mvkw7/T/ipykernel_11416/201902765.py:7: FutureWarning: The frame.append method is deprecated and will be removed from pandas in a future version. Use pandas.concat instead.\n",
      "  df3 = df3.append(match_row)\n",
      "/var/folders/sd/6wq1tchj0tn1sg4yqxdqdrzs5mvkw7/T/ipykernel_11416/201902765.py:7: FutureWarning: The frame.append method is deprecated and will be removed from pandas in a future version. Use pandas.concat instead.\n",
      "  df3 = df3.append(match_row)\n",
      "/var/folders/sd/6wq1tchj0tn1sg4yqxdqdrzs5mvkw7/T/ipykernel_11416/201902765.py:7: FutureWarning: The frame.append method is deprecated and will be removed from pandas in a future version. Use pandas.concat instead.\n",
      "  df3 = df3.append(match_row)\n",
      "/var/folders/sd/6wq1tchj0tn1sg4yqxdqdrzs5mvkw7/T/ipykernel_11416/201902765.py:7: FutureWarning: The frame.append method is deprecated and will be removed from pandas in a future version. Use pandas.concat instead.\n",
      "  df3 = df3.append(match_row)\n",
      "/var/folders/sd/6wq1tchj0tn1sg4yqxdqdrzs5mvkw7/T/ipykernel_11416/201902765.py:7: FutureWarning: The frame.append method is deprecated and will be removed from pandas in a future version. Use pandas.concat instead.\n",
      "  df3 = df3.append(match_row)\n",
      "/var/folders/sd/6wq1tchj0tn1sg4yqxdqdrzs5mvkw7/T/ipykernel_11416/201902765.py:7: FutureWarning: The frame.append method is deprecated and will be removed from pandas in a future version. Use pandas.concat instead.\n",
      "  df3 = df3.append(match_row)\n",
      "/var/folders/sd/6wq1tchj0tn1sg4yqxdqdrzs5mvkw7/T/ipykernel_11416/201902765.py:7: FutureWarning: The frame.append method is deprecated and will be removed from pandas in a future version. Use pandas.concat instead.\n",
      "  df3 = df3.append(match_row)\n",
      "/var/folders/sd/6wq1tchj0tn1sg4yqxdqdrzs5mvkw7/T/ipykernel_11416/201902765.py:7: FutureWarning: The frame.append method is deprecated and will be removed from pandas in a future version. Use pandas.concat instead.\n",
      "  df3 = df3.append(match_row)\n",
      "/var/folders/sd/6wq1tchj0tn1sg4yqxdqdrzs5mvkw7/T/ipykernel_11416/201902765.py:7: FutureWarning: The frame.append method is deprecated and will be removed from pandas in a future version. Use pandas.concat instead.\n",
      "  df3 = df3.append(match_row)\n",
      "/var/folders/sd/6wq1tchj0tn1sg4yqxdqdrzs5mvkw7/T/ipykernel_11416/201902765.py:7: FutureWarning: The frame.append method is deprecated and will be removed from pandas in a future version. Use pandas.concat instead.\n",
      "  df3 = df3.append(match_row)\n",
      "/var/folders/sd/6wq1tchj0tn1sg4yqxdqdrzs5mvkw7/T/ipykernel_11416/201902765.py:7: FutureWarning: The frame.append method is deprecated and will be removed from pandas in a future version. Use pandas.concat instead.\n",
      "  df3 = df3.append(match_row)\n",
      "/var/folders/sd/6wq1tchj0tn1sg4yqxdqdrzs5mvkw7/T/ipykernel_11416/201902765.py:7: FutureWarning: The frame.append method is deprecated and will be removed from pandas in a future version. Use pandas.concat instead.\n",
      "  df3 = df3.append(match_row)\n",
      "/var/folders/sd/6wq1tchj0tn1sg4yqxdqdrzs5mvkw7/T/ipykernel_11416/201902765.py:7: FutureWarning: The frame.append method is deprecated and will be removed from pandas in a future version. Use pandas.concat instead.\n",
      "  df3 = df3.append(match_row)\n",
      "/var/folders/sd/6wq1tchj0tn1sg4yqxdqdrzs5mvkw7/T/ipykernel_11416/201902765.py:7: FutureWarning: The frame.append method is deprecated and will be removed from pandas in a future version. Use pandas.concat instead.\n",
      "  df3 = df3.append(match_row)\n",
      "/var/folders/sd/6wq1tchj0tn1sg4yqxdqdrzs5mvkw7/T/ipykernel_11416/201902765.py:7: FutureWarning: The frame.append method is deprecated and will be removed from pandas in a future version. Use pandas.concat instead.\n",
      "  df3 = df3.append(match_row)\n",
      "/var/folders/sd/6wq1tchj0tn1sg4yqxdqdrzs5mvkw7/T/ipykernel_11416/201902765.py:7: FutureWarning: The frame.append method is deprecated and will be removed from pandas in a future version. Use pandas.concat instead.\n",
      "  df3 = df3.append(match_row)\n",
      "/var/folders/sd/6wq1tchj0tn1sg4yqxdqdrzs5mvkw7/T/ipykernel_11416/201902765.py:7: FutureWarning: The frame.append method is deprecated and will be removed from pandas in a future version. Use pandas.concat instead.\n",
      "  df3 = df3.append(match_row)\n",
      "/var/folders/sd/6wq1tchj0tn1sg4yqxdqdrzs5mvkw7/T/ipykernel_11416/201902765.py:7: FutureWarning: The frame.append method is deprecated and will be removed from pandas in a future version. Use pandas.concat instead.\n",
      "  df3 = df3.append(match_row)\n",
      "/var/folders/sd/6wq1tchj0tn1sg4yqxdqdrzs5mvkw7/T/ipykernel_11416/201902765.py:7: FutureWarning: The frame.append method is deprecated and will be removed from pandas in a future version. Use pandas.concat instead.\n",
      "  df3 = df3.append(match_row)\n",
      "/var/folders/sd/6wq1tchj0tn1sg4yqxdqdrzs5mvkw7/T/ipykernel_11416/201902765.py:7: FutureWarning: The frame.append method is deprecated and will be removed from pandas in a future version. Use pandas.concat instead.\n",
      "  df3 = df3.append(match_row)\n",
      "/var/folders/sd/6wq1tchj0tn1sg4yqxdqdrzs5mvkw7/T/ipykernel_11416/201902765.py:7: FutureWarning: The frame.append method is deprecated and will be removed from pandas in a future version. Use pandas.concat instead.\n",
      "  df3 = df3.append(match_row)\n",
      "/var/folders/sd/6wq1tchj0tn1sg4yqxdqdrzs5mvkw7/T/ipykernel_11416/201902765.py:7: FutureWarning: The frame.append method is deprecated and will be removed from pandas in a future version. Use pandas.concat instead.\n",
      "  df3 = df3.append(match_row)\n",
      "/var/folders/sd/6wq1tchj0tn1sg4yqxdqdrzs5mvkw7/T/ipykernel_11416/201902765.py:7: FutureWarning: The frame.append method is deprecated and will be removed from pandas in a future version. Use pandas.concat instead.\n",
      "  df3 = df3.append(match_row)\n",
      "/var/folders/sd/6wq1tchj0tn1sg4yqxdqdrzs5mvkw7/T/ipykernel_11416/201902765.py:7: FutureWarning: The frame.append method is deprecated and will be removed from pandas in a future version. Use pandas.concat instead.\n",
      "  df3 = df3.append(match_row)\n",
      "/var/folders/sd/6wq1tchj0tn1sg4yqxdqdrzs5mvkw7/T/ipykernel_11416/201902765.py:7: FutureWarning: The frame.append method is deprecated and will be removed from pandas in a future version. Use pandas.concat instead.\n",
      "  df3 = df3.append(match_row)\n",
      "/var/folders/sd/6wq1tchj0tn1sg4yqxdqdrzs5mvkw7/T/ipykernel_11416/201902765.py:7: FutureWarning: The frame.append method is deprecated and will be removed from pandas in a future version. Use pandas.concat instead.\n",
      "  df3 = df3.append(match_row)\n",
      "/var/folders/sd/6wq1tchj0tn1sg4yqxdqdrzs5mvkw7/T/ipykernel_11416/201902765.py:7: FutureWarning: The frame.append method is deprecated and will be removed from pandas in a future version. Use pandas.concat instead.\n",
      "  df3 = df3.append(match_row)\n"
     ]
    }
   ],
   "source": [
    "df3 = df2.copy()\n",
    "\n",
    "# Here we put together a final dataset with both the treated and untreated individuals\n",
    "# Iterating over a pandas dataframe is painfully slow and not recommended, but we're working with tiny data here so it isn't a problem\n",
    "for _, row in df2.iterrows():\n",
    "    match_row = df.iloc[int(row['matched_element'])]\n",
    "    df3 = df3.append(match_row)"
   ]
  },
  {
   "cell_type": "code",
   "execution_count": 30,
   "id": "9fdb005d-8328-4746-b75d-dd3944225746",
   "metadata": {},
   "outputs": [],
   "source": [
    "df3.reset_index(inplace = True)"
   ]
  },
  {
   "cell_type": "code",
   "execution_count": 31,
   "id": "158a479b-a9e2-4c23-b831-bf54b17f550b",
   "metadata": {},
   "outputs": [
    {
     "data": {
      "text/plain": [
       "1.0    185\n",
       "0.0    185\n",
       "Name: treat, dtype: int64"
      ]
     },
     "execution_count": 31,
     "metadata": {},
     "output_type": "execute_result"
    }
   ],
   "source": [
    "df3['treat'].value_counts()"
   ]
  },
  {
   "cell_type": "markdown",
   "id": "fb975817-02f5-4cd3-bf66-945fdeaecbe3",
   "metadata": {},
   "source": [
    "## Fantastic, we now our matched dataset of 185 treated and 185 \"control\" participants. Now let's do some diagnostic work to ensure the matching worked well."
   ]
  },
  {
   "cell_type": "code",
   "execution_count": 32,
   "id": "2284698a-f90e-4995-b795-657ab7be889a",
   "metadata": {},
   "outputs": [
    {
     "data": {
      "text/plain": [
       "<AxesSubplot:xlabel='pro_score', ylabel='Density'>"
      ]
     },
     "execution_count": 32,
     "metadata": {},
     "output_type": "execute_result"
    },
    {
     "data": {
      "image/png": "[encoded data removed]",
      "text/plain": [
       "<Figure size 720x360 with 1 Axes>"
      ]
     },
     "metadata": {
      "needs_background": "light"
     },
     "output_type": "display_data"
    }
   ],
   "source": [
    "# Notice how much more similar the two distributions are than before...\n",
    "\n",
    "sns.kdeplot(x = df3['pro_score'], hue = df3['treat'])"
   ]
  },
  {
   "cell_type": "code",
   "execution_count": 33,
   "id": "d0ad1b4b-e1f8-4aa4-a3f1-1e740dce098c",
   "metadata": {},
   "outputs": [],
   "source": [
    "def cohenD (dataframe, column):\n",
    "    \"\"\"\n",
    "    Calculates Cohen’s D (a standard score that summarizes the difference in terms of the number of standard deviations).\n",
    "    \n",
    "    Args:\n",
    "        dataframe: the pandas dataframe of interest\n",
    "        column: the covariate name of interest\n",
    "        \n",
    "    Returns: a float corresponding to Cohen's D. Larger number indicates greater difference.\n",
    "    \"\"\"\n",
    "    treated_metric = dataframe[dataframe['treat'] == 1][column]\n",
    "    untreated_metric = dataframe[dataframe['treat'] == 0][column]\n",
    "    \n",
    "    d = (treated_metric.mean() - untreated_metric.mean()) / math.sqrt(\n",
    "        (\n",
    "            (treated_metric.count() - 1) * treated_metric.std() ** 2\n",
    "            + (untreated_metric.count() - 1) * untreated_metric.std() ** 2\n",
    "        )\n",
    "    / (treated_metric.count() + untreated_metric.count() - 2)\n",
    "    )\n",
    "\n",
    "    return d"
   ]
  },
  {
   "cell_type": "code",
   "execution_count": 34,
   "id": "a20190e1-1d7d-41b7-8861-b468fad8df3b",
   "metadata": {},
   "outputs": [],
   "source": [
    "data = []\n",
    "cols = ['scaled_age', 'scaled_educ']\n",
    "for cl in cols:\n",
    "    data.append([cl,'before', cohenD(df,cl)])\n",
    "    data.append([cl,'after', cohenD(df3,cl)])"
   ]
  },
  {
   "cell_type": "code",
   "execution_count": 35,
   "id": "662be5b9-7a9d-41eb-902f-9fb0a03b52bf",
   "metadata": {},
   "outputs": [],
   "source": [
    "res = pd.DataFrame(data, columns=['variable','matching','Cohen_D_difference'])"
   ]
  },
  {
   "cell_type": "markdown",
   "id": "4d101746-7b33-484f-b5cd-95d83aca54dc",
   "metadata": {},
   "source": [
    "Notice that the two continuous covariates differ less between treatment and \"control\" groups after matching"
   ]
  },
  {
   "cell_type": "code",
   "execution_count": 36,
   "id": "53edc12c-9b99-4a00-a4dd-08e63a96bd90",
   "metadata": {},
   "outputs": [
    {
     "data": {
      "image/png": "[encoded data removed]",
      "text/plain": [
       "<Figure size 720x360 with 1 Axes>"
      ]
     },
     "metadata": {
      "needs_background": "light"
     },
     "output_type": "display_data"
    }
   ],
   "source": [
    "sn_plot = sns.barplot(data = res, y = 'variable', x = 'Cohen_D_difference', hue = 'matching', orient='h')"
   ]
  },
  {
   "cell_type": "markdown",
   "id": "0a129fc5-5151-4068-a304-5697d3477234",
   "metadata": {},
   "source": [
    "Similarly, the proportion of positive values among binary covariates is closer after matching"
   ]
  },
  {
   "cell_type": "code",
   "execution_count": 37,
   "id": "cb887a5e-7bcb-4744-9aca-63560f65a7e7",
   "metadata": {},
   "outputs": [],
   "source": [
    "data = []\n",
    "cols = ['educ', 'black', 'hisp', 'married']\n",
    "for cl in cols:\n",
    "    data.append([cl,'before', abs(df[df['treat'] == 1][cl].mean() - df[df['treat'] == 0][cl].mean())])\n",
    "    data.append([cl,'after', abs(df3[df3['treat'] == 1][cl].mean() - df3[df3['treat'] == 0][cl].mean())])"
   ]
  },
  {
   "cell_type": "code",
   "execution_count": 38,
   "id": "a95778ba-cfce-4f17-ad7b-e8f56f5041a6",
   "metadata": {},
   "outputs": [],
   "source": [
    "res = pd.DataFrame(data, columns=['variable','matching','abs_diff_in_class_proportion'])"
   ]
  },
  {
   "cell_type": "markdown",
   "id": "1ed4812b-e2e5-4a78-bd76-a77d47bb1c1e",
   "metadata": {},
   "source": [
    "For the most part, the differences in binary covariates between treated and untreated get smaller too after matching."
   ]
  },
  {
   "cell_type": "code",
   "execution_count": 39,
   "id": "8621f17e-b600-41c2-bafb-a34b3defd3ba",
   "metadata": {},
   "outputs": [
    {
     "data": {
      "image/png": "[encoded data removed]",
      "text/plain": [
       "<Figure size 720x360 with 1 Axes>"
      ]
     },
     "metadata": {
      "needs_background": "light"
     },
     "output_type": "display_data"
    }
   ],
   "source": [
    "sn_plot = sns.barplot(data = res, y = 'variable', x = 'abs_diff_in_class_proportion', hue = 'matching', orient='h')"
   ]
  },
  {
   "cell_type": "markdown",
   "id": "3ad11dc3-4ac7-48d2-bd07-3c0f484add10",
   "metadata": {
    "tags": []
   },
   "source": [
    "## We can now calculate the Average Treatment Effect Among the Treated (ATT)"
   ]
  },
  {
   "cell_type": "markdown",
   "id": "125fe1e7-1a4f-4368-8724-87fa59e0ae27",
   "metadata": {},
   "source": [
    "<div class=\"alert alert-success\">\n",
    "    <h3>EXERCISE: In the matched dataset with 185 treated and 185 untreated individuals, what is the treatment effect? Remember, this is the difference between the average outcome value in treated minus that of the untreated group.</h3>\n",
    "</div>"
   ]
  },
  {
   "cell_type": "code",
   "execution_count": 40,
   "id": "c3677a95-d181-48a3-a139-26c18643f692",
   "metadata": {},
   "outputs": [
    {
     "name": "stdout",
     "output_type": "stream",
     "text": [
      "1727.38\n"
     ]
    }
   ],
   "source": [
    "# The PSM-corrected treatment effect is...\n",
    "print(round(df3[df3['treat'] == 1]['re78'].mean() - df3[df3['treat'] == 0]['re78'].mean(), 2))"
   ]
  },
  {
   "cell_type": "markdown",
   "id": "95d24ea4-d22f-47ed-a57d-0fd4d3ab4c12",
   "metadata": {},
   "source": [
    "## Interesting, notice how it's less than the raw estimate! That is because there was some mild-to-moderate confounding occurring with the covariates we did propensity score matching on. This is the corrected estimate one would use if you had to estimate the causal effect and you couldn't simply run a proper experiment.\n",
    "\n",
    "#### If you really wanted to, you could obtain a confidence interval around this estimate. Like we did at the start of this notebook, you would need to repeat the following thousands of times and note the 2.5th and 97.5th percentile values of Average Treatment Effects Among the Treated:\n",
    "\n",
    "1) Draw a sample (of same size as your dataset) with replacement\n",
    "2) Generate a propensity score model and propensity score values\n",
    "3) Caliper match on them as we did above\n",
    "4) Calculate the ATT as you did in the cell above\n",
    "\n"
   ]
  }
 ],
 "metadata": {
  "kernelspec": {
   "display_name": "Python (intro-to-causal-inference)",
   "language": "python",
   "name": "intro-to-causal-inference"
  },
  "language_info": {
   "codemirror_mode": {
    "name": "ipython",
    "version": 3
   },
   "file_extension": ".py",
   "mimetype": "text/x-python",
   "name": "python",
   "nbconvert_exporter": "python",
   "pygments_lexer": "ipython3",
   "version": "3.9.11"
  }
 },
 "nbformat": 4,
 "nbformat_minor": 5
}
